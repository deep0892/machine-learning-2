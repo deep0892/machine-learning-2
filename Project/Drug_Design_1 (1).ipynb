{
  "nbformat": 4,
  "nbformat_minor": 0,
  "metadata": {
    "colab": {
      "name": "Drug_Design_1.ipynb",
      "provenance": [],
      "collapsed_sections": [],
      "machine_shape": "hm"
    },
    "kernelspec": {
      "display_name": "Python 3",
      "name": "python3"
    },
    "accelerator": "GPU"
  },
  "cells": [
    {
      "cell_type": "code",
      "metadata": {
        "id": "7nUpjRbUIkjK"
      },
      "source": [
        "import argparse\n",
        "import urllib\n",
        "import gzip\n",
        "import shutil\n",
        "import pandas as pd\n",
        "import numpy as np\n",
        "import logging\n",
        "from tqdm import tqdm\n",
        "from sklearn.model_selection import train_test_split\n",
        "import tensorflow as tf\n",
        "import os\n",
        "import matplotlib.pyplot as plt"
      ],
      "execution_count": 5,
      "outputs": []
    },
    {
      "cell_type": "code",
      "metadata": {
        "id": "HDIaoEdrHOrQ"
      },
      "source": [
        "# from google.colab import drive\n",
        "# drive.mount('/content/drive')"
      ],
      "execution_count": 6,
      "outputs": []
    },
    {
      "cell_type": "code",
      "metadata": {
        "id": "8vWO7UdLeq-w"
      },
      "source": [
        "data = pd.read_csv('/content/drive/MyDrive/Dataset/MoleculeSythesis/dataset/AA.csv')\n",
        "data = data[:250000]"
      ],
      "execution_count": 7,
      "outputs": []
    },
    {
      "cell_type": "code",
      "metadata": {
        "colab": {
          "base_uri": "https://localhost:8080/",
          "height": 824
        },
        "id": "yI68FB6-GJBf",
        "outputId": "1eb2667d-ccf0-4e72-9538-bc7ac99043c2"
      },
      "source": [
        "df1 = pd.read_csv('/content/drive/MyDrive/Dataset/MoleculeSythesis/dataset/AA.csv')\n",
        "df2 = pd.read_csv('/content/drive/MyDrive/Dataset/MoleculeSythesis/BJ.csv')\n",
        "data = pd.concat([df1, df2])\n",
        "data = data.sample(frac=1).reset_index(drop=True)\n",
        "data = data[:250000]\n",
        "data.head(25)"
      ],
      "execution_count": 8,
      "outputs": [
        {
          "output_type": "execute_result",
          "data": {
            "text/html": [
              "<div>\n",
              "<style scoped>\n",
              "    .dataframe tbody tr th:only-of-type {\n",
              "        vertical-align: middle;\n",
              "    }\n",
              "\n",
              "    .dataframe tbody tr th {\n",
              "        vertical-align: top;\n",
              "    }\n",
              "\n",
              "    .dataframe thead th {\n",
              "        text-align: right;\n",
              "    }\n",
              "</style>\n",
              "<table border=\"1\" class=\"dataframe\">\n",
              "  <thead>\n",
              "    <tr style=\"text-align: right;\">\n",
              "      <th></th>\n",
              "      <th>zinc_id</th>\n",
              "      <th>smiles</th>\n",
              "    </tr>\n",
              "  </thead>\n",
              "  <tbody>\n",
              "    <tr>\n",
              "      <th>0</th>\n",
              "      <td>ZINC000117053873</td>\n",
              "      <td>C/C(=C\\CC1CCCCCCCCC1)C(=O)O</td>\n",
              "    </tr>\n",
              "    <tr>\n",
              "      <th>1</th>\n",
              "      <td>ZINC000038034639</td>\n",
              "      <td>Cc1noc(CNC[C@H](O)CO)n1</td>\n",
              "    </tr>\n",
              "    <tr>\n",
              "      <th>2</th>\n",
              "      <td>ZINC000213110151</td>\n",
              "      <td>N[C@H](COC[C@H](O)CO)C(=O)O</td>\n",
              "    </tr>\n",
              "    <tr>\n",
              "      <th>3</th>\n",
              "      <td>ZINC000691458499</td>\n",
              "      <td>CCCCCCCCCC1(CN)CC(C)C1</td>\n",
              "    </tr>\n",
              "    <tr>\n",
              "      <th>4</th>\n",
              "      <td>ZINC000307621149</td>\n",
              "      <td>CC(=O)N(C)CC(=O)NO</td>\n",
              "    </tr>\n",
              "    <tr>\n",
              "      <th>5</th>\n",
              "      <td>ZINC000020687759</td>\n",
              "      <td>O=C1C(=O)N(O)[C@@H]2CO[C@H]12</td>\n",
              "    </tr>\n",
              "    <tr>\n",
              "      <th>6</th>\n",
              "      <td>ZINC000198876095</td>\n",
              "      <td>CC(C)=CC/C=C(C)\\C=C/O[Si](C)(C)C</td>\n",
              "    </tr>\n",
              "    <tr>\n",
              "      <th>7</th>\n",
              "      <td>ZINC001459398562</td>\n",
              "      <td>CC[C@H](c1ccccc1)N(CC)CCCC1CC1</td>\n",
              "    </tr>\n",
              "    <tr>\n",
              "      <th>8</th>\n",
              "      <td>ZINC001653295318</td>\n",
              "      <td>CC(C)C[C@H]1CCCN1C[C@@H](C)CC(C)(C)C</td>\n",
              "    </tr>\n",
              "    <tr>\n",
              "      <th>9</th>\n",
              "      <td>ZINC000104634531</td>\n",
              "      <td>NC(=O)C(CCO)C(N)=O</td>\n",
              "    </tr>\n",
              "    <tr>\n",
              "      <th>10</th>\n",
              "      <td>ZINC000019049577</td>\n",
              "      <td>OC[C@H]([C@@H]1CC=NN1)[C@@H]1CN1</td>\n",
              "    </tr>\n",
              "    <tr>\n",
              "      <th>11</th>\n",
              "      <td>ZINC000143882902</td>\n",
              "      <td>C[C@H](CO)O[C@H](O)[C@@H](O)CO</td>\n",
              "    </tr>\n",
              "    <tr>\n",
              "      <th>12</th>\n",
              "      <td>ZINC000017562194</td>\n",
              "      <td>O=C1[C@H]2OC[C@@H](O)[C@H]2[C@@H]2CN12</td>\n",
              "    </tr>\n",
              "    <tr>\n",
              "      <th>13</th>\n",
              "      <td>ZINC000018637869</td>\n",
              "      <td>C[C@H]1C(=O)N2NCC(=O)[C@H]12</td>\n",
              "    </tr>\n",
              "    <tr>\n",
              "      <th>14</th>\n",
              "      <td>ZINC000024065900</td>\n",
              "      <td>O=C[C@H]1OC[C@@H]2OC=NN[C@H]12</td>\n",
              "    </tr>\n",
              "    <tr>\n",
              "      <th>15</th>\n",
              "      <td>ZINC000714532638</td>\n",
              "      <td>CC/C=C/C[C@H](CC)c1ccc(O)c(C)c1</td>\n",
              "    </tr>\n",
              "    <tr>\n",
              "      <th>16</th>\n",
              "      <td>ZINC000687001674</td>\n",
              "      <td>CC[C@H](C)[C@H](Cl)c1cccc(SC)c1</td>\n",
              "    </tr>\n",
              "    <tr>\n",
              "      <th>17</th>\n",
              "      <td>ZINC001190570846</td>\n",
              "      <td>CCCCCN(CCC)[C@@H]1CCc2ccccc21</td>\n",
              "    </tr>\n",
              "    <tr>\n",
              "      <th>18</th>\n",
              "      <td>ZINC000017609664</td>\n",
              "      <td>O=C1NC[C@@H]2[C@H](O)[C@@H]2N2C[C@@H]12</td>\n",
              "    </tr>\n",
              "    <tr>\n",
              "      <th>19</th>\n",
              "      <td>ZINC000135669355</td>\n",
              "      <td>CCCCCCC[C@](C)(CNC(C)C)C1CC1</td>\n",
              "    </tr>\n",
              "    <tr>\n",
              "      <th>20</th>\n",
              "      <td>ZINC000199434108</td>\n",
              "      <td>NCCCC[C@H](CN)[C@H](N)CN</td>\n",
              "    </tr>\n",
              "    <tr>\n",
              "      <th>21</th>\n",
              "      <td>ZINC000059313542</td>\n",
              "      <td>C[C@H](Cc1ccc(Cl)cc1)c1ccccc1</td>\n",
              "    </tr>\n",
              "    <tr>\n",
              "      <th>22</th>\n",
              "      <td>ZINC000022940199</td>\n",
              "      <td>CN1C=N[C@@H]2CN[C@@H]2CN1</td>\n",
              "    </tr>\n",
              "    <tr>\n",
              "      <th>23</th>\n",
              "      <td>ZINC000526902668</td>\n",
              "      <td>CC(=O)CC[S@@](=O)CC(=O)NN</td>\n",
              "    </tr>\n",
              "    <tr>\n",
              "      <th>24</th>\n",
              "      <td>ZINC000113878886</td>\n",
              "      <td>NC(=O)CC[C@@H](N)S(=O)(=O)O</td>\n",
              "    </tr>\n",
              "  </tbody>\n",
              "</table>\n",
              "</div>"
            ],
            "text/plain": [
              "             zinc_id                                   smiles\n",
              "0   ZINC000117053873              C/C(=C\\CC1CCCCCCCCC1)C(=O)O\n",
              "1   ZINC000038034639                  Cc1noc(CNC[C@H](O)CO)n1\n",
              "2   ZINC000213110151              N[C@H](COC[C@H](O)CO)C(=O)O\n",
              "3   ZINC000691458499                   CCCCCCCCCC1(CN)CC(C)C1\n",
              "4   ZINC000307621149                       CC(=O)N(C)CC(=O)NO\n",
              "5   ZINC000020687759            O=C1C(=O)N(O)[C@@H]2CO[C@H]12\n",
              "6   ZINC000198876095         CC(C)=CC/C=C(C)\\C=C/O[Si](C)(C)C\n",
              "7   ZINC001459398562           CC[C@H](c1ccccc1)N(CC)CCCC1CC1\n",
              "8   ZINC001653295318     CC(C)C[C@H]1CCCN1C[C@@H](C)CC(C)(C)C\n",
              "9   ZINC000104634531                       NC(=O)C(CCO)C(N)=O\n",
              "10  ZINC000019049577         OC[C@H]([C@@H]1CC=NN1)[C@@H]1CN1\n",
              "11  ZINC000143882902           C[C@H](CO)O[C@H](O)[C@@H](O)CO\n",
              "12  ZINC000017562194   O=C1[C@H]2OC[C@@H](O)[C@H]2[C@@H]2CN12\n",
              "13  ZINC000018637869             C[C@H]1C(=O)N2NCC(=O)[C@H]12\n",
              "14  ZINC000024065900           O=C[C@H]1OC[C@@H]2OC=NN[C@H]12\n",
              "15  ZINC000714532638          CC/C=C/C[C@H](CC)c1ccc(O)c(C)c1\n",
              "16  ZINC000687001674          CC[C@H](C)[C@H](Cl)c1cccc(SC)c1\n",
              "17  ZINC001190570846            CCCCCN(CCC)[C@@H]1CCc2ccccc21\n",
              "18  ZINC000017609664  O=C1NC[C@@H]2[C@H](O)[C@@H]2N2C[C@@H]12\n",
              "19  ZINC000135669355             CCCCCCC[C@](C)(CNC(C)C)C1CC1\n",
              "20  ZINC000199434108                 NCCCC[C@H](CN)[C@H](N)CN\n",
              "21  ZINC000059313542            C[C@H](Cc1ccc(Cl)cc1)c1ccccc1\n",
              "22  ZINC000022940199                CN1C=N[C@@H]2CN[C@@H]2CN1\n",
              "23  ZINC000526902668                CC(=O)CC[S@@](=O)CC(=O)NN\n",
              "24  ZINC000113878886              NC(=O)CC[C@@H](N)S(=O)(=O)O"
            ]
          },
          "metadata": {
            "tags": []
          },
          "execution_count": 8
        }
      ]
    },
    {
      "cell_type": "code",
      "metadata": {
        "colab": {
          "base_uri": "https://localhost:8080/"
        },
        "id": "ox-GDOPdtBW8",
        "outputId": "ac29c8f8-901e-492e-ba71-6e1fc95df4cc"
      },
      "source": [
        "data['smiles'].apply(len).max()"
      ],
      "execution_count": 9,
      "outputs": [
        {
          "output_type": "execute_result",
          "data": {
            "text/plain": [
              "80"
            ]
          },
          "metadata": {
            "tags": []
          },
          "execution_count": 9
        }
      ]
    },
    {
      "cell_type": "code",
      "metadata": {
        "colab": {
          "base_uri": "https://localhost:8080/"
        },
        "id": "rPPLH98PIUPJ",
        "outputId": "2a9eef23-c702-4d0c-a8a2-d63c087c4b7e"
      },
      "source": [
        "smiles_data = data['smiles'][:250000]\n",
        "smiles_data = np.array(smiles_data).reshape(-1)\n",
        "print('Number of mols: '+str(len(smiles_data)))\n",
        "idx = [i for i, x in enumerate(smiles_data) if len(x)<=120]\n",
        "print('Number of valid mols: '+str(len(idx)))\n",
        "smiles_data = smiles_data[idx]\n",
        "print('Getting a unique character set...')"
      ],
      "execution_count": 10,
      "outputs": [
        {
          "output_type": "stream",
          "text": [
            "Number of mols: 250000\n",
            "Number of valid mols: 250000\n",
            "Getting a unique character set...\n"
          ],
          "name": "stdout"
        }
      ]
    },
    {
      "cell_type": "code",
      "metadata": {
        "colab": {
          "base_uri": "https://localhost:8080/"
        },
        "id": "WwtGUpnHIv6l",
        "outputId": "d48eeca3-1246-449b-dec4-f16d140ce68f"
      },
      "source": [
        "char_set = set()\n",
        "for i in tqdm(range(len(smiles_data))):\n",
        "    smiles_data[i] = smiles_data[i].ljust(62)\n",
        "    char_set = char_set.union(set(smiles_data[i]))\n",
        "char_set_list = sorted(list(char_set))\n",
        "print('Number of characters: '+str(len(char_set_list)))"
      ],
      "execution_count": 11,
      "outputs": [
        {
          "output_type": "stream",
          "text": [
            "100%|██████████| 250000/250000 [00:00<00:00, 387194.31it/s]"
          ],
          "name": "stderr"
        },
        {
          "output_type": "stream",
          "text": [
            "Number of characters: 37\n"
          ],
          "name": "stdout"
        },
        {
          "output_type": "stream",
          "text": [
            "\n"
          ],
          "name": "stderr"
        }
      ]
    },
    {
      "cell_type": "code",
      "metadata": {
        "colab": {
          "base_uri": "https://localhost:8080/"
        },
        "id": "mb4hxktHI9W5",
        "outputId": "bdaf6c5b-9e60-4f4c-d3b1-5f68dc394a2c"
      },
      "source": [
        "len(char_set_list)"
      ],
      "execution_count": 12,
      "outputs": [
        {
          "output_type": "execute_result",
          "data": {
            "text/plain": [
              "37"
            ]
          },
          "metadata": {
            "tags": []
          },
          "execution_count": 12
        }
      ]
    },
    {
      "cell_type": "code",
      "metadata": {
        "colab": {
          "base_uri": "https://localhost:8080/",
          "height": 349
        },
        "id": "7ZBw5c2uKN0J",
        "outputId": "2b56e380-cb21-4259-c0e5-87aca156ce73"
      },
      "source": [
        "fig, axes = plt.subplots(nrows = 1, ncols = 3, figsize = (15, 5))\n",
        "axes[0].set_title(\"SMILES length distribution\")\n",
        "axes[0].hist(data['smiles'].str.len(), align = 'left')\n",
        "axes[1].set_title(\"SMILES length less or equal than 60 distribution\")\n",
        "axes[1].hist(data[data['smiles'].str.len() <= 60]['smiles'].str.len(), align = 'left')\n",
        "axes[2].set_title(\"SMILES length greater than 60 distribution\")\n",
        "axes[2].hist(data[data['smiles'].str.len() > 60]['smiles'].str.len(), align = 'left')\n",
        "fig.tight_layout()\n",
        "\n",
        "plt.show()"
      ],
      "execution_count": 13,
      "outputs": [
        {
          "output_type": "display_data",
          "data": {
            "image/png": "[encoded data removed]",
            "text/plain": [
              "<Figure size 1080x360 with 3 Axes>"
            ]
          },
          "metadata": {
            "tags": [],
            "needs_background": "light"
          }
        }
      ]
    },
    {
      "cell_type": "code",
      "metadata": {
        "colab": {
          "base_uri": "https://localhost:8080/"
        },
        "id": "YAf0ySkCK8P4",
        "outputId": "bec111e4-6a37-4956-a483-eb8405da4ba0"
      },
      "source": [
        "print(\"SMILES max length: {0}\".format(data['smiles'].str.len().max()))\n",
        "print(\"SMILES min length: {0}\".format(data['smiles'].str.len().min()))\n",
        "print(\"Number of SMILES with length less or equal than 60: {0}\".format(len(data[data['smiles'].str.len() <= 60])))\n",
        "print(\"Number of SMILES with length grather than 60: {0}\".format(len(data[data['smiles'].str.len() > 60])))"
      ],
      "execution_count": 14,
      "outputs": [
        {
          "output_type": "stream",
          "text": [
            "SMILES max length: 80\n",
            "SMILES min length: 4\n",
            "Number of SMILES with length less or equal than 60: 249809\n",
            "Number of SMILES with length grather than 60: 191\n"
          ],
          "name": "stdout"
        }
      ]
    },
    {
      "cell_type": "code",
      "metadata": {
        "colab": {
          "base_uri": "https://localhost:8080/"
        },
        "id": "ZBc7b-tLLdM8",
        "outputId": "0f5218e2-97d7-4ddb-917a-94a2d0550e40"
      },
      "source": [
        "# Charset Sanity Check\n",
        "charset = []\n",
        "for smile in tqdm(data['smiles'], total = len(data['smiles'])):\n",
        "    for c in smile:\n",
        "        if c not in charset:\n",
        "            charset.append(c)\n",
        "\n",
        "isbreak = False\n",
        "for l in char_set_list:\n",
        "    if l not in charset:\n",
        "        isbreak = True\n",
        "        break\n",
        "\n",
        "if not isbreak:\n",
        "    print(\"The vocabulary CHARSET contain all needed characters.\")\n",
        "else:\n",
        "    print(\"The vocabulary CHARSET does not contain all needed characters.\")"
      ],
      "execution_count": 15,
      "outputs": [
        {
          "output_type": "stream",
          "text": [
            "100%|██████████| 250000/250000 [00:01<00:00, 162656.67it/s]"
          ],
          "name": "stderr"
        },
        {
          "output_type": "stream",
          "text": [
            "The vocabulary CHARSET does not contain all needed characters.\n"
          ],
          "name": "stdout"
        },
        {
          "output_type": "stream",
          "text": [
            "\n"
          ],
          "name": "stderr"
        }
      ]
    },
    {
      "cell_type": "code",
      "metadata": {
        "colab": {
          "base_uri": "https://localhost:8080/"
        },
        "id": "QX059rjwMwQL",
        "outputId": "adced67f-405c-4bce-e5a0-a151cd79d76f"
      },
      "source": [
        "encoder_dict =   dict((c,i) for i,c in enumerate(charset))\n",
        "decoder_dict =   dict((i,c) for i,c in enumerate(charset))\n",
        "\n",
        "def one_hot_encoder(smiles, length = 78):\n",
        "  X = np.zeros((length, len(charset)))\n",
        "  for i, c in enumerate( smiles ):\n",
        "    X[i, encoder_dict[c]] = 1\n",
        "    return X\n",
        "\n",
        "def one_hot_decoder(X):\n",
        "  smi = ''\n",
        "  X = X.argmax( axis=-1 )\n",
        "  for i in X:\n",
        "    smi += decoder_dict[i]\n",
        "  return smi\n",
        "print(encoder_dict)\n",
        "print(decoder_dict)"
      ],
      "execution_count": 16,
      "outputs": [
        {
          "output_type": "stream",
          "text": [
            "{'C': 0, '/': 1, '(': 2, '=': 3, '\\\\': 4, '1': 5, ')': 6, 'O': 7, 'c': 8, 'n': 9, 'o': 10, 'N': 11, '[': 12, '@': 13, 'H': 14, ']': 15, '2': 16, 'S': 17, 'i': 18, 'l': 19, 'F': 20, '3': 21, '+': 22, '-': 23, 's': 24, '#': 25, 'P': 26, 'B': 27, '4': 28, 'r': 29, 'p': 30, '5': 31, '8': 32, '7': 33, '6': 34, 'I': 35}\n",
            "{0: 'C', 1: '/', 2: '(', 3: '=', 4: '\\\\', 5: '1', 6: ')', 7: 'O', 8: 'c', 9: 'n', 10: 'o', 11: 'N', 12: '[', 13: '@', 14: 'H', 15: ']', 16: '2', 17: 'S', 18: 'i', 19: 'l', 20: 'F', 21: '3', 22: '+', 23: '-', 24: 's', 25: '#', 26: 'P', 27: 'B', 28: '4', 29: 'r', 30: 'p', 31: '5', 32: '8', 33: '7', 34: '6', 35: 'I'}\n"
          ],
          "name": "stdout"
        }
      ]
    },
    {
      "cell_type": "code",
      "metadata": {
        "colab": {
          "base_uri": "https://localhost:8080/"
        },
        "id": "axzFGl-EM7rT",
        "outputId": "21998e87-6915-4f33-ada2-d493f8aefafc"
      },
      "source": [
        "x_train_encoded = []\n",
        "x_train_decoded = []\n",
        "for item in data['smiles']:\n",
        "  x_train_encoded.append(one_hot_encoder(item))\n",
        "for item in x_train_encoded:\n",
        "  x_train_decoded.append(one_hot_decoder(item))\n",
        "x_train_encoded = np.array(x_train_encoded)\n",
        "# x_train_decoded = np.array(x_train_decoded)\n",
        "print(x_train_encoded.shape)\n",
        "# print(x_train_decoded.shape)"
      ],
      "execution_count": 18,
      "outputs": [
        {
          "output_type": "stream",
          "text": [
            "(250000, 78, 36)\n"
          ],
          "name": "stdout"
        }
      ]
    },
    {
      "cell_type": "code",
      "metadata": {
        "colab": {
          "base_uri": "https://localhost:8080/"
        },
        "id": "J5QVuTpMO8rP",
        "outputId": "4b1d6898-8188-448c-b128-208ba7b4e393"
      },
      "source": [
        "x_train_encoded = x_train_encoded.reshape(-1,78,36,1)\n",
        "x_train_encoded.shape"
      ],
      "execution_count": 19,
      "outputs": [
        {
          "output_type": "execute_result",
          "data": {
            "text/plain": [
              "(250000, 78, 36, 1)"
            ]
          },
          "metadata": {
            "tags": []
          },
          "execution_count": 19
        }
      ]
    },
    {
      "cell_type": "code",
      "metadata": {
        "id": "Bz8Mje5L0UI7"
      },
      "source": [
        "import pandas as pd\n",
        "import numpy as np\n",
        "import matplotlib\n",
        "import matplotlib.pyplot as plt \n",
        "import matplotlib.patches as mpatches \n",
        "%matplotlib inline\n",
        "from scipy.stats import norm \n",
        "import keras\n",
        "from keras import layers\n",
        "from keras.models import Model \n",
        "from keras import metrics\n",
        "from keras import backend as K \n",
        "K.clear_session()\n",
        "np.random.seed(237)\n",
        "import scipy.stats as st\n",
        "import tensorflow.compat.v1.keras.backend as K \n",
        "import tensorflow as tf \n",
        "tf.compat.v1.disable_eager_execution()\n",
        "from tensorflow.keras.optimizers import Adam \n",
        "import warnings \n",
        "warnings.filterwarnings(\"ignore\")\n",
        "import matplotlib.pyplot as plt\n",
        "from mpl_toolkits.mplot3d import Axes3D \n",
        "import numpy as np\n",
        "from scipy.stats import multivariate_normal"
      ],
      "execution_count": 20,
      "outputs": []
    },
    {
      "cell_type": "code",
      "metadata": {
        "id": "l1srg2CXj5Xv"
      },
      "source": [
        "def sampling(args):\n",
        "  z_mu, z_log_sigma = args\n",
        "  epsilon = K.random_normal(shape=(K.shape(z_mu)[0], latent_dim),\n",
        "  mean=0., stddev=1.)\n",
        "  return z_mu + K.exp(z_log_sigma) * epsilon"
      ],
      "execution_count": 21,
      "outputs": []
    },
    {
      "cell_type": "code",
      "metadata": {
        "id": "r5FoBrgeF5ZU",
        "colab": {
          "base_uri": "https://localhost:8080/"
        },
        "outputId": "1525eb7b-dfbb-4d56-a4c3-93ddbec67417"
      },
      "source": [
        "img_shape = (78, 36, 1)\n",
        "batch_size = 64\n",
        "latent_dim = 2\n",
        "input_img = tf.keras.Input(shape=img_shape)\n",
        "\n",
        "# x = layers.Conv1D(16, 7,\n",
        "#                   strides = 1)(input_img)\n",
        "# x = layers.BatchNormalization()(x)\n",
        "# x = layers.Activation('relu')(x)\n",
        "\n",
        "x = layers.Conv1D(32, 7,\n",
        "                  strides = 1)(input_img)\n",
        "x = layers.BatchNormalization(momentum = 0.5)(x)\n",
        "# x = layers.Activation('relu')(x)\n",
        "x = layers.LeakyReLU(alpha=0.3)(x)\n",
        "\n",
        "x = layers.Conv1D(64, 7,\n",
        "                  strides = 1)(x)\n",
        "x = layers.BatchNormalization(momentum = 0.5)(x)\n",
        "# x = layers.Activation('relu')(x)\n",
        "x = layers.LeakyReLU(alpha=0.3)(x)\n",
        "\n",
        "x = layers.Conv1D(128, 7,\n",
        "                  \n",
        "                  strides = 1)(x)\n",
        "x = layers.BatchNormalization(momentum = 0.5)(x)\n",
        "# x = layers.Activation('relu')(x)\n",
        "x = layers.LeakyReLU(alpha=0.3)(x)\n",
        "\n",
        "# x = layers.Dense(512)(x)\n",
        "# x = layers.BatchNormalization()(x)\n",
        "# x = layers.Activation('relu')(x)\n",
        "\n",
        "# x = layers.Dense(1024)(x)\n",
        "# x = layers.BatchNormalization()(x)\n",
        "# x = layers.Activation('relu')(x)\n",
        "\n",
        "\n",
        "shape_before_flattening = K.int_shape(x)\n",
        "x = layers.Flatten()(x)\n",
        "z_mu = layers.Dense(latent_dim)(x)\n",
        "z_log_sigma = layers.Dense(latent_dim)(x)\n",
        "z = layers.Lambda(sampling)([z_mu, z_log_sigma])\n",
        "\n",
        "encoder = tf.keras.Model(input_img,[z_mu,z_log_sigma])\n",
        "encoder.summary()"
      ],
      "execution_count": 37,
      "outputs": [
        {
          "output_type": "stream",
          "text": [
            "Model: \"model_5\"\n",
            "__________________________________________________________________________________________________\n",
            "Layer (type)                    Output Shape         Param #     Connected to                     \n",
            "==================================================================================================\n",
            "input_6 (InputLayer)            [(None, 78, 36, 1)]  0                                            \n",
            "__________________________________________________________________________________________________\n",
            "conv1d_4 (Conv1D)               (None, 78, 30, 32)   256         input_6[0][0]                    \n",
            "__________________________________________________________________________________________________\n",
            "batch_normalization_9 (BatchNor (None, 78, 30, 32)   128         conv1d_4[0][0]                   \n",
            "__________________________________________________________________________________________________\n",
            "leaky_re_lu (LeakyReLU)         (None, 78, 30, 32)   0           batch_normalization_9[0][0]      \n",
            "__________________________________________________________________________________________________\n",
            "conv1d_5 (Conv1D)               (None, 78, 24, 64)   14400       leaky_re_lu[0][0]                \n",
            "__________________________________________________________________________________________________\n",
            "batch_normalization_10 (BatchNo (None, 78, 24, 64)   256         conv1d_5[0][0]                   \n",
            "__________________________________________________________________________________________________\n",
            "leaky_re_lu_1 (LeakyReLU)       (None, 78, 24, 64)   0           batch_normalization_10[0][0]     \n",
            "__________________________________________________________________________________________________\n",
            "conv1d_6 (Conv1D)               (None, 78, 18, 128)  57472       leaky_re_lu_1[0][0]              \n",
            "__________________________________________________________________________________________________\n",
            "batch_normalization_11 (BatchNo (None, 78, 18, 128)  512         conv1d_6[0][0]                   \n",
            "__________________________________________________________________________________________________\n",
            "leaky_re_lu_2 (LeakyReLU)       (None, 78, 18, 128)  0           batch_normalization_11[0][0]     \n",
            "__________________________________________________________________________________________________\n",
            "flatten_1 (Flatten)             (None, 179712)       0           leaky_re_lu_2[0][0]              \n",
            "__________________________________________________________________________________________________\n",
            "dense_10 (Dense)                (None, 2)            359426      flatten_1[0][0]                  \n",
            "__________________________________________________________________________________________________\n",
            "dense_11 (Dense)                (None, 2)            359426      flatten_1[0][0]                  \n",
            "==================================================================================================\n",
            "Total params: 791,876\n",
            "Trainable params: 791,428\n",
            "Non-trainable params: 448\n",
            "__________________________________________________________________________________________________\n"
          ],
          "name": "stdout"
        }
      ]
    },
    {
      "cell_type": "code",
      "metadata": {
        "id": "IWd_wh6bTzr9"
      },
      "source": [
        "decoder_input = layers.Input(K.int_shape(z)[1:])\n",
        "x = layers.Dense(np.prod(shape_before_flattening[1:]),activation='relu')(decoder_input)\n",
        "#Decoder\n",
        "x = layers.Dense(512)(x)\n",
        "x = layers.BatchNormalization(momentum = 0.9)(x)\n",
        "# x = layers.Activation('relu')(x)\n",
        "x = layers.LeakyReLU(alpha=0.3)(x)\n",
        "\n",
        "x = layers.RepeatVector(78)(x)\n",
        "\n",
        "x = tf.compat.v1.keras.layers.CuDNNGRU(512, return_sequences=True)(x)\n",
        "x = layers.BatchNormalization(momentum = 0.9)(x)\n",
        "\n",
        "# x = tf.compat.v1.keras.layers.CuDNNGRU(512, return_sequences=True)(x)\n",
        "# x = layers.BatchNormalization()(x)\n",
        "\n",
        "# x = tf.compat.v1.keras.layers.CuDNNGRU(512, return_sequences=True)(x)\n",
        "# x = layers.BatchNormalization()(x)\n",
        "\n",
        "x = tf.compat.v1.keras.layers.CuDNNGRU(512, return_sequences=True)(x)\n",
        "\n",
        "outputs_logits = layers.TimeDistributed(layers.Dense(36))(x)\n",
        "x = layers.Activation('tanh')(outputs_logits)"
      ],
      "execution_count": 38,
      "outputs": []
    },
    {
      "cell_type": "code",
      "metadata": {
        "id": "iPzbwjioWZ0W"
      },
      "source": [
        "decoder = Model(decoder_input, x)\n",
        "z_decoded = decoder(z)"
      ],
      "execution_count": 39,
      "outputs": []
    },
    {
      "cell_type": "code",
      "metadata": {
        "colab": {
          "base_uri": "https://localhost:8080/"
        },
        "id": "igEQ9jVxeprE",
        "outputId": "fa3f4380-e686-4da3-eaf3-63331d41b2ff"
      },
      "source": [
        "decoder.summary()"
      ],
      "execution_count": 40,
      "outputs": [
        {
          "output_type": "stream",
          "text": [
            "Model: \"model_6\"\n",
            "_________________________________________________________________\n",
            "Layer (type)                 Output Shape              Param #   \n",
            "=================================================================\n",
            "input_7 (InputLayer)         [(None, 2)]               0         \n",
            "_________________________________________________________________\n",
            "dense_12 (Dense)             (None, 179712)            539136    \n",
            "_________________________________________________________________\n",
            "dense_13 (Dense)             (None, 512)               92013056  \n",
            "_________________________________________________________________\n",
            "batch_normalization_12 (Batc (None, 512)               2048      \n",
            "_________________________________________________________________\n",
            "leaky_re_lu_3 (LeakyReLU)    (None, 512)               0         \n",
            "_________________________________________________________________\n",
            "repeat_vector_2 (RepeatVecto (None, 78, 512)           0         \n",
            "_________________________________________________________________\n",
            "cu_dnngru_4 (CuDNNGRU)       (None, 78, 512)           1575936   \n",
            "_________________________________________________________________\n",
            "batch_normalization_13 (Batc (None, 78, 512)           2048      \n",
            "_________________________________________________________________\n",
            "cu_dnngru_5 (CuDNNGRU)       (None, 78, 512)           1575936   \n",
            "_________________________________________________________________\n",
            "time_distributed_2 (TimeDist (None, 78, 36)            18468     \n",
            "_________________________________________________________________\n",
            "activation_9 (Activation)    (None, 78, 36)            0         \n",
            "=================================================================\n",
            "Total params: 95,726,628\n",
            "Trainable params: 95,724,580\n",
            "Non-trainable params: 2,048\n",
            "_________________________________________________________________\n"
          ],
          "name": "stdout"
        }
      ]
    },
    {
      "cell_type": "code",
      "metadata": {
        "id": "W8-s3hMF8qEC"
      },
      "source": [
        "class CustomVariationalLayer(keras.layers.Layer):\n",
        "    def vae_loss(self, x, z_decoded):\n",
        "        x = K.flatten(x)\n",
        "        z_decoded = K.flatten(z_decoded)\n",
        "        xent_loss = keras.metrics.binary_crossentropy(x, z_decoded) #Recin loss\n",
        "        kl_loss = -5e-4 * K.mean(1 + z_log_sigma - K.square(z_mu) - K.exp(z_log_sigma), axis=-1) #KL loss\n",
        "        return K.mean(xent_loss + kl_loss)\n",
        "\n",
        "    def call(self, inputs):\n",
        "        x = inputs[0]\n",
        "        z_decoded = inputs[1]\n",
        "        loss = self.vae_loss(x, z_decoded)\n",
        "        self.add_loss(loss, inputs=inputs)\n",
        "        return x\n",
        "\n",
        "y = CustomVariationalLayer()([input_img, z_decoded])"
      ],
      "execution_count": 41,
      "outputs": []
    },
    {
      "cell_type": "code",
      "metadata": {
        "colab": {
          "base_uri": "https://localhost:8080/"
        },
        "id": "P3Wm2AvY9MGf",
        "outputId": "625c6a74-d77f-4e51-d55c-71beb0f6b9b3"
      },
      "source": [
        "# VAE model statement\n",
        "vae = Model(input_img, y)\n",
        "vae.compile(optimizer='rmsprop', loss=None)\n",
        "vae.summary()"
      ],
      "execution_count": 42,
      "outputs": [
        {
          "output_type": "stream",
          "text": [
            "WARNING:tensorflow:Output custom_variational_layer_2 missing from loss dictionary. We assume this was done on purpose. The fit and evaluate APIs will not be expecting any data to be passed to custom_variational_layer_2.\n",
            "Model: \"model_7\"\n",
            "__________________________________________________________________________________________________\n",
            "Layer (type)                    Output Shape         Param #     Connected to                     \n",
            "==================================================================================================\n",
            "input_6 (InputLayer)            [(None, 78, 36, 1)]  0                                            \n",
            "__________________________________________________________________________________________________\n",
            "conv1d_4 (Conv1D)               (None, 78, 30, 32)   256         input_6[0][0]                    \n",
            "__________________________________________________________________________________________________\n",
            "batch_normalization_9 (BatchNor (None, 78, 30, 32)   128         conv1d_4[0][0]                   \n",
            "__________________________________________________________________________________________________\n",
            "leaky_re_lu (LeakyReLU)         (None, 78, 30, 32)   0           batch_normalization_9[0][0]      \n",
            "__________________________________________________________________________________________________\n",
            "conv1d_5 (Conv1D)               (None, 78, 24, 64)   14400       leaky_re_lu[0][0]                \n",
            "__________________________________________________________________________________________________\n",
            "batch_normalization_10 (BatchNo (None, 78, 24, 64)   256         conv1d_5[0][0]                   \n",
            "__________________________________________________________________________________________________\n",
            "leaky_re_lu_1 (LeakyReLU)       (None, 78, 24, 64)   0           batch_normalization_10[0][0]     \n",
            "__________________________________________________________________________________________________\n",
            "conv1d_6 (Conv1D)               (None, 78, 18, 128)  57472       leaky_re_lu_1[0][0]              \n",
            "__________________________________________________________________________________________________\n",
            "batch_normalization_11 (BatchNo (None, 78, 18, 128)  512         conv1d_6[0][0]                   \n",
            "__________________________________________________________________________________________________\n",
            "leaky_re_lu_2 (LeakyReLU)       (None, 78, 18, 128)  0           batch_normalization_11[0][0]     \n",
            "__________________________________________________________________________________________________\n",
            "flatten_1 (Flatten)             (None, 179712)       0           leaky_re_lu_2[0][0]              \n",
            "__________________________________________________________________________________________________\n",
            "dense_10 (Dense)                (None, 2)            359426      flatten_1[0][0]                  \n",
            "__________________________________________________________________________________________________\n",
            "dense_11 (Dense)                (None, 2)            359426      flatten_1[0][0]                  \n",
            "__________________________________________________________________________________________________\n",
            "lambda_1 (Lambda)               (None, 2)            0           dense_10[0][0]                   \n",
            "                                                                 dense_11[0][0]                   \n",
            "__________________________________________________________________________________________________\n",
            "model_6 (Functional)            (None, 78, 36)       95726628    lambda_1[0][0]                   \n",
            "__________________________________________________________________________________________________\n",
            "custom_variational_layer_2 (Cus (None, 78, 36, 1)    0           input_6[0][0]                    \n",
            "                                                                 model_6[0][0]                    \n",
            "==================================================================================================\n",
            "Total params: 96,518,504\n",
            "Trainable params: 96,516,008\n",
            "Non-trainable params: 2,496\n",
            "__________________________________________________________________________________________________\n"
          ],
          "name": "stdout"
        }
      ]
    },
    {
      "cell_type": "code",
      "metadata": {
        "colab": {
          "base_uri": "https://localhost:8080/"
        },
        "id": "5veujgFA9UtU",
        "outputId": "91e91aea-0888-4a9e-c5e1-9e341bb933d5"
      },
      "source": [
        "callback = tf.keras.callbacks.EarlyStopping(monitor='loss', patience=10)\n",
        "vae.fit(x = x_train_encoded[:20000], y=None,\n",
        "        shuffle=True,\n",
        "        epochs=20,\n",
        "        batch_size=16,callbacks=[callback]\n",
        ")"
      ],
      "execution_count": null,
      "outputs": [
        {
          "output_type": "stream",
          "text": [
            "Train on 20000 samples\n",
            "Epoch 1/20\n",
            "20000/20000 [==============================] - 47s 2ms/sample - loss: 29953058739123.5938\n",
            "Epoch 2/20\n",
            "20000/20000 [==============================] - 40s 2ms/sample - loss: 513816.9644\n",
            "Epoch 3/20\n",
            "20000/20000 [==============================] - 40s 2ms/sample - loss: 3757464982.8651\n",
            "Epoch 4/20\n",
            "20000/20000 [==============================] - 40s 2ms/sample - loss: 551.6626\n",
            "Epoch 5/20\n",
            "20000/20000 [==============================] - 40s 2ms/sample - loss: 74533595709356976.0000\n",
            "Epoch 6/20\n",
            "20000/20000 [==============================] - 40s 2ms/sample - loss: 11535052078423.0762\n",
            "Epoch 7/20\n",
            "20000/20000 [==============================] - 40s 2ms/sample - loss: 48306344956552784.0000\n",
            "Epoch 8/20\n",
            "20000/20000 [==============================] - 40s 2ms/sample - loss: 124201858769.8021\n",
            "Epoch 9/20\n",
            "20000/20000 [==============================] - 40s 2ms/sample - loss: 32678621065.5142\n",
            "Epoch 10/20\n",
            "20000/20000 [==============================] - 40s 2ms/sample - loss: 6526344918.3666\n",
            "Epoch 11/20\n",
            "20000/20000 [==============================] - 40s 2ms/sample - loss: 20.9899\n",
            "Epoch 12/20\n",
            "20000/20000 [==============================] - 40s 2ms/sample - loss: 24.1371\n",
            "Epoch 13/20\n",
            "20000/20000 [==============================] - 40s 2ms/sample - loss: 2204589619743.5342\n",
            "Epoch 14/20\n",
            "20000/20000 [==============================] - 40s 2ms/sample - loss: 5870488819761699725770752.0000\n",
            "Epoch 15/20\n",
            "20000/20000 [==============================] - 40s 2ms/sample - loss: 924283221032564817920.0000\n",
            "Epoch 16/20\n",
            "20000/20000 [==============================] - 40s 2ms/sample - loss: 26938769834129348538400768.0000\n",
            "Epoch 17/20\n",
            "20000/20000 [==============================] - 40s 2ms/sample - loss: 863479481248489275392.0000\n",
            "Epoch 18/20\n",
            "20000/20000 [==============================] - 40s 2ms/sample - loss: 1130896777181854720.0000\n",
            "Epoch 19/20\n",
            " 8112/20000 [===========>..................] - ETA: 23s - loss: 366523244747564907495424.0000"
          ],
          "name": "stdout"
        }
      ]
    },
    {
      "cell_type": "code",
      "metadata": {
        "id": "Pzs06iOX9qI0",
        "colab": {
          "base_uri": "https://localhost:8080/",
          "height": 181
        },
        "outputId": "16384860-9b75-436f-d203-2a015bc4478a"
      },
      "source": [
        "sample_vector = np.array([[0,5]])\n",
        "result = decoder.predict(sample_vector)"
      ],
      "execution_count": 1,
      "outputs": [
        {
          "output_type": "error",
          "ename": "NameError",
          "evalue": "ignored",
          "traceback": [
            "\u001b[0;31m---------------------------------------------------------------------------\u001b[0m",
            "\u001b[0;31mNameError\u001b[0m                                 Traceback (most recent call last)",
            "\u001b[0;32m<ipython-input-1-f3f62268915b>\u001b[0m in \u001b[0;36m<module>\u001b[0;34m()\u001b[0m\n\u001b[0;32m----> 1\u001b[0;31m \u001b[0msample_vector\u001b[0m \u001b[0;34m=\u001b[0m \u001b[0mnp\u001b[0m\u001b[0;34m.\u001b[0m\u001b[0marray\u001b[0m\u001b[0;34m(\u001b[0m\u001b[0;34m[\u001b[0m\u001b[0;34m[\u001b[0m\u001b[0;36m0\u001b[0m\u001b[0;34m,\u001b[0m\u001b[0;36m5\u001b[0m\u001b[0;34m]\u001b[0m\u001b[0;34m]\u001b[0m\u001b[0;34m)\u001b[0m\u001b[0;34m\u001b[0m\u001b[0;34m\u001b[0m\u001b[0m\n\u001b[0m\u001b[1;32m      2\u001b[0m \u001b[0mresult\u001b[0m \u001b[0;34m=\u001b[0m \u001b[0mdecoder\u001b[0m\u001b[0;34m.\u001b[0m\u001b[0mpredict\u001b[0m\u001b[0;34m(\u001b[0m\u001b[0msample_vector\u001b[0m\u001b[0;34m)\u001b[0m\u001b[0;34m\u001b[0m\u001b[0;34m\u001b[0m\u001b[0m\n",
            "\u001b[0;31mNameError\u001b[0m: name 'np' is not defined"
          ]
        }
      ]
    },
    {
      "cell_type": "code",
      "metadata": {
        "colab": {
          "base_uri": "https://localhost:8080/",
          "height": 164
        },
        "id": "ywyEdpBgDUhJ",
        "outputId": "ae3955f2-263b-43fd-c207-164f40ebc9db"
      },
      "source": [
        "result.shape"
      ],
      "execution_count": 2,
      "outputs": [
        {
          "output_type": "error",
          "ename": "NameError",
          "evalue": "ignored",
          "traceback": [
            "\u001b[0;31m---------------------------------------------------------------------------\u001b[0m",
            "\u001b[0;31mNameError\u001b[0m                                 Traceback (most recent call last)",
            "\u001b[0;32m<ipython-input-2-4a99d8abe300>\u001b[0m in \u001b[0;36m<module>\u001b[0;34m()\u001b[0m\n\u001b[0;32m----> 1\u001b[0;31m \u001b[0mresult\u001b[0m\u001b[0;34m.\u001b[0m\u001b[0mshape\u001b[0m\u001b[0;34m\u001b[0m\u001b[0;34m\u001b[0m\u001b[0m\n\u001b[0m",
            "\u001b[0;31mNameError\u001b[0m: name 'result' is not defined"
          ]
        }
      ]
    },
    {
      "cell_type": "code",
      "metadata": {
        "id": "yIOIn2hrDf_l"
      },
      "source": [
        "result = result[0].reshape(78, 36)"
      ],
      "execution_count": null,
      "outputs": []
    },
    {
      "cell_type": "code",
      "metadata": {
        "id": "Gc-fneGLDwIH"
      },
      "source": [
        "result.shape"
      ],
      "execution_count": null,
      "outputs": []
    },
    {
      "cell_type": "code",
      "metadata": {
        "id": "TfNi41ZYD5Pw"
      },
      "source": [
        "one_hot_decoder(result)"
      ],
      "execution_count": null,
      "outputs": []
    },
    {
      "cell_type": "code",
      "metadata": {
        "id": "53zgDxuXE8mL"
      },
      "source": [
        "def get_loss(distribution_mean, distribution_variance):\n",
        "    \n",
        "    def get_reconstruction_loss(y_true, y_pred):\n",
        "        reconstruction_loss = tf.keras.losses.mse(y_true, y_pred)\n",
        "        reconstruction_loss_batch = tf.reduce_mean(reconstruction_loss)\n",
        "        return reconstruction_loss_batch*28*28\n",
        "    \n",
        "    def get_kl_loss(distribution_mean, distribution_variance):\n",
        "        kl_loss = 1 + distribution_variance - tf.square(distribution_mean) - tf.exp(distribution_variance)\n",
        "        kl_loss_batch = tf.reduce_mean(kl_loss)\n",
        "        return kl_loss_batch*(-0.5)\n",
        "    \n",
        "    def total_loss(y_true, y_pred):\n",
        "        reconstruction_loss_batch = get_reconstruction_loss(y_true, y_pred)\n",
        "        kl_loss_batch = get_kl_loss(distribution_mean, distribution_variance)\n",
        "        return reconstruction_loss_batch + kl_loss_batch\n",
        "    \n",
        "    return total_loss"
      ],
      "execution_count": null,
      "outputs": []
    },
    {
      "cell_type": "code",
      "metadata": {
        "colab": {
          "base_uri": "https://localhost:8080/"
        },
        "id": "gigEsCNmsl9G",
        "outputId": "15dda90a-772f-4302-efa6-5b23d43d1bd3"
      },
      "source": [
        "vae.compile(loss=get_loss(z_mu, z_log_sigma), optimizer='adam')\n",
        "vae.summary()"
      ],
      "execution_count": null,
      "outputs": [
        {
          "output_type": "stream",
          "text": [
            "Model: \"model_4\"\n",
            "__________________________________________________________________________________________________\n",
            "Layer (type)                    Output Shape         Param #     Connected to                     \n",
            "==================================================================================================\n",
            "input_1 (InputLayer)            [(None, 60, 36, 1)]  0                                            \n",
            "__________________________________________________________________________________________________\n",
            "conv1d (Conv1D)                 (None, 60, 30, 32)   256         input_1[0][0]                    \n",
            "__________________________________________________________________________________________________\n",
            "batch_normalization (BatchNorma (None, 60, 30, 32)   128         conv1d[0][0]                     \n",
            "__________________________________________________________________________________________________\n",
            "activation (Activation)         (None, 60, 30, 32)   0           batch_normalization[0][0]        \n",
            "__________________________________________________________________________________________________\n",
            "conv1d_1 (Conv1D)               (None, 60, 24, 64)   14400       activation[0][0]                 \n",
            "__________________________________________________________________________________________________\n",
            "batch_normalization_1 (BatchNor (None, 60, 24, 64)   256         conv1d_1[0][0]                   \n",
            "__________________________________________________________________________________________________\n",
            "activation_1 (Activation)       (None, 60, 24, 64)   0           batch_normalization_1[0][0]      \n",
            "__________________________________________________________________________________________________\n",
            "conv1d_2 (Conv1D)               (None, 60, 18, 128)  57472       activation_1[0][0]               \n",
            "__________________________________________________________________________________________________\n",
            "batch_normalization_2 (BatchNor (None, 60, 18, 128)  512         conv1d_2[0][0]                   \n",
            "__________________________________________________________________________________________________\n",
            "activation_2 (Activation)       (None, 60, 18, 128)  0           batch_normalization_2[0][0]      \n",
            "__________________________________________________________________________________________________\n",
            "dense (Dense)                   (None, 60, 18, 512)  66048       activation_2[0][0]               \n",
            "__________________________________________________________________________________________________\n",
            "batch_normalization_3 (BatchNor (None, 60, 18, 512)  2048        dense[0][0]                      \n",
            "__________________________________________________________________________________________________\n",
            "activation_3 (Activation)       (None, 60, 18, 512)  0           batch_normalization_3[0][0]      \n",
            "__________________________________________________________________________________________________\n",
            "flatten (Flatten)               (None, 552960)       0           activation_3[0][0]               \n",
            "__________________________________________________________________________________________________\n",
            "dense_1 (Dense)                 (None, 2)            1105922     flatten[0][0]                    \n",
            "__________________________________________________________________________________________________\n",
            "dense_2 (Dense)                 (None, 2)            1105922     flatten[0][0]                    \n",
            "__________________________________________________________________________________________________\n",
            "lambda (Lambda)                 (None, 2)            0           dense_1[0][0]                    \n",
            "                                                                 dense_2[0][0]                    \n",
            "__________________________________________________________________________________________________\n",
            "model_3 (Functional)            (None, 60, 36)       289527332   lambda[0][0]                     \n",
            "__________________________________________________________________________________________________\n",
            "custom_variational_layer_3 (Cus (None, 60, 36, 1)    0           input_1[0][0]                    \n",
            "                                                                 model_3[0][0]                    \n",
            "==================================================================================================\n",
            "Total params: 291,880,296\n",
            "Trainable params: 291,875,752\n",
            "Non-trainable params: 4,544\n",
            "__________________________________________________________________________________________________\n"
          ],
          "name": "stdout"
        }
      ]
    },
    {
      "cell_type": "code",
      "metadata": {
        "colab": {
          "base_uri": "https://localhost:8080/"
        },
        "id": "3184Ajmds5yT",
        "outputId": "b4996f3c-5422-40dd-acf6-6d888cbffb54"
      },
      "source": [
        "callback = tf.keras.callbacks.EarlyStopping(monitor='loss', patience=10)\n",
        "vae.fit(x = x_train_encoded[:20000], y=None,\n",
        "        shuffle=True,\n",
        "        epochs=20,\n",
        "        batch_size=200,callbacks=[callback]\n",
        ")"
      ],
      "execution_count": null,
      "outputs": [
        {
          "output_type": "stream",
          "text": [
            "Train on 20000 samples\n",
            "Epoch 1/20\n",
            "20000/20000 [==============================] - 22s 1ms/sample - loss: nan\n",
            "Epoch 2/20\n",
            "20000/20000 [==============================] - 16s 796us/sample - loss: nan\n",
            "Epoch 3/20\n",
            "20000/20000 [==============================] - 16s 793us/sample - loss: nan\n",
            "Epoch 4/20\n",
            "20000/20000 [==============================] - 16s 798us/sample - loss: nan\n",
            "Epoch 5/20\n",
            "20000/20000 [==============================] - 16s 795us/sample - loss: nan\n",
            "Epoch 6/20\n",
            "20000/20000 [==============================] - 16s 795us/sample - loss: nan\n",
            "Epoch 7/20\n",
            "20000/20000 [==============================] - 16s 794us/sample - loss: nan\n",
            "Epoch 8/20\n",
            "20000/20000 [==============================] - 16s 795us/sample - loss: nan\n",
            "Epoch 9/20\n",
            "20000/20000 [==============================] - 16s 793us/sample - loss: nan\n",
            "Epoch 10/20\n",
            "20000/20000 [==============================] - 16s 794us/sample - loss: nan\n"
          ],
          "name": "stdout"
        },
        {
          "output_type": "execute_result",
          "data": {
            "text/plain": [
              "<tensorflow.python.keras.callbacks.History at 0x7f31a44c42e8>"
            ]
          },
          "metadata": {
            "tags": []
          },
          "execution_count": 51
        }
      ]
    },
    {
      "cell_type": "code",
      "metadata": {
        "id": "zB9VSBK5tQeo"
      },
      "source": [
        ""
      ],
      "execution_count": null,
      "outputs": []
    },
    {
      "cell_type": "code",
      "metadata": {
        "id": "5i8eWL024w8T"
      },
      "source": [
        ""
      ],
      "execution_count": null,
      "outputs": []
    }
  ]
}
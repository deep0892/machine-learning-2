{
  "nbformat": 4,
  "nbformat_minor": 0,
  "metadata": {
    "colab": {
      "name": "Drug_Design (1).ipynb",
      "provenance": [],
      "collapsed_sections": [],
      "machine_shape": "hm"
    },
    "kernelspec": {
      "display_name": "Python 3",
      "name": "python3"
    },
    "accelerator": "GPU"
  },
  "cells": [
    {
      "cell_type": "code",
      "metadata": {
        "colab": {
          "base_uri": "https://localhost:8080/"
        },
        "id": "dYSLa1JVSbm3",
        "outputId": "e2ea80e3-42a3-441c-9728-61f19d08dc94"
      },
      "source": [
        "from google.colab import drive\n",
        "drive.mount(\"/content/drive\")"
      ],
      "execution_count": 212,
      "outputs": [
        {
          "output_type": "stream",
          "text": [
            "Drive already mounted at /content/drive; to attempt to forcibly remount, call drive.mount(\"/content/drive\", force_remount=True).\n"
          ],
          "name": "stdout"
        }
      ]
    },
    {
      "cell_type": "code",
      "metadata": {
        "id": "Bz8Mje5L0UI7"
      },
      "source": [
        "import pandas as pd\n",
        "import numpy as np\n",
        "import matplotlib.pyplot as plt \n",
        "import matplotlib.patches as mpatches \n",
        "%matplotlib inline\n",
        "from scipy.stats import norm \n",
        "import tensorflow.compat.v1.keras.backend as K \n",
        "import tensorflow as tf\n",
        "import keras\n",
        "from keras.layers import Dense, Reshape, Conv2D, Conv2DTranspose\n",
        "from keras.models import Model \n",
        "from keras import metrics\n",
        "from keras import backend as K \n",
        "import keras\n",
        "from keras import layers\n",
        "K.clear_session()\n",
        "np.random.seed(237)\n",
        "import scipy.stats as st\n",
        "import tensorflow.compat.v1.keras.backend as K \n",
        "import tensorflow as tf \n",
        "tf.compat.v1.disable_eager_execution()\n",
        "from tensorflow.keras.optimizers import Adam \n",
        "import warnings \n",
        "warnings.filterwarnings(\"ignore\")\n",
        "import matplotlib.pyplot as plt\n",
        "from mpl_toolkits.mplot3d import Axes3D \n",
        "import numpy as np\n",
        "from scipy.stats import multivariate_normal"
      ],
      "execution_count": 213,
      "outputs": []
    },
    {
      "cell_type": "code",
      "metadata": {
        "id": "0OQ47lQFfDjU"
      },
      "source": [
        "!pip install kora -q\n",
        "import kora.install.rdkit\n",
        "from rdkit import Chem"
      ],
      "execution_count": 214,
      "outputs": []
    },
    {
      "cell_type": "code",
      "metadata": {
        "colab": {
          "base_uri": "https://localhost:8080/",
          "height": 419
        },
        "id": "8vWO7UdLeq-w",
        "outputId": "8dc5fc34-1936-4d28-83c3-2e5e98605089"
      },
      "source": [
        "import pandas as pd\n",
        "import numpy as np\n",
        "data = pd.read_csv('/content/drive/MyDrive/AA.csv')\n",
        "data"
      ],
      "execution_count": 215,
      "outputs": [
        {
          "output_type": "execute_result",
          "data": {
            "text/html": [
              "<div>\n",
              "<style scoped>\n",
              "    .dataframe tbody tr th:only-of-type {\n",
              "        vertical-align: middle;\n",
              "    }\n",
              "\n",
              "    .dataframe tbody tr th {\n",
              "        vertical-align: top;\n",
              "    }\n",
              "\n",
              "    .dataframe thead th {\n",
              "        text-align: right;\n",
              "    }\n",
              "</style>\n",
              "<table border=\"1\" class=\"dataframe\">\n",
              "  <thead>\n",
              "    <tr style=\"text-align: right;\">\n",
              "      <th></th>\n",
              "      <th>zinc_id</th>\n",
              "      <th>smiles</th>\n",
              "    </tr>\n",
              "  </thead>\n",
              "  <tbody>\n",
              "    <tr>\n",
              "      <th>0</th>\n",
              "      <td>ZINC000000008151</td>\n",
              "      <td>C[C@H]1[C@@H](O)[C@H](CO)O[C@@H](O)[C@@H]1N</td>\n",
              "    </tr>\n",
              "    <tr>\n",
              "      <th>1</th>\n",
              "      <td>ZINC000000008153</td>\n",
              "      <td>CC[C@@H]1[C@@H](N)[C@@H](O)O[C@@H](CO)[C@@H]1O</td>\n",
              "    </tr>\n",
              "    <tr>\n",
              "      <th>2</th>\n",
              "      <td>ZINC000000008155</td>\n",
              "      <td>CC1(C)[C@@H](N)[C@@H](O)O[C@@H](CO)[C@@H]1O</td>\n",
              "    </tr>\n",
              "    <tr>\n",
              "      <th>3</th>\n",
              "      <td>ZINC000000018276</td>\n",
              "      <td>CS[C@@H]1CN[C@@H](CO)[C@H](O)[C@H]1O</td>\n",
              "    </tr>\n",
              "    <tr>\n",
              "      <th>4</th>\n",
              "      <td>ZINC000000018279</td>\n",
              "      <td>CS[C@@H]1[C@@H](O)CN[C@@H](CO)[C@@H]1O</td>\n",
              "    </tr>\n",
              "    <tr>\n",
              "      <th>...</th>\n",
              "      <td>...</td>\n",
              "      <td>...</td>\n",
              "    </tr>\n",
              "    <tr>\n",
              "      <th>427851</th>\n",
              "      <td>ZINC000242463989</td>\n",
              "      <td>O[Cl+3](O)(O)O</td>\n",
              "    </tr>\n",
              "    <tr>\n",
              "      <th>427852</th>\n",
              "      <td>ZINC000247713634</td>\n",
              "      <td>O1[SiH2][SiH2]O[SiH2][SiH2]1</td>\n",
              "    </tr>\n",
              "    <tr>\n",
              "      <th>427853</th>\n",
              "      <td>ZINC000252581626</td>\n",
              "      <td>O[Si](O)(O)F</td>\n",
              "    </tr>\n",
              "    <tr>\n",
              "      <th>427854</th>\n",
              "      <td>ZINC000685945533</td>\n",
              "      <td>Cn1nnnc1S(=O)(=O)F</td>\n",
              "    </tr>\n",
              "    <tr>\n",
              "      <th>427855</th>\n",
              "      <td>ZINC000725262634</td>\n",
              "      <td>Cn1nnc(S(=O)(=O)F)n1</td>\n",
              "    </tr>\n",
              "  </tbody>\n",
              "</table>\n",
              "<p>427856 rows × 2 columns</p>\n",
              "</div>"
            ],
            "text/plain": [
              "                 zinc_id                                          smiles\n",
              "0       ZINC000000008151     C[C@H]1[C@@H](O)[C@H](CO)O[C@@H](O)[C@@H]1N\n",
              "1       ZINC000000008153  CC[C@@H]1[C@@H](N)[C@@H](O)O[C@@H](CO)[C@@H]1O\n",
              "2       ZINC000000008155     CC1(C)[C@@H](N)[C@@H](O)O[C@@H](CO)[C@@H]1O\n",
              "3       ZINC000000018276            CS[C@@H]1CN[C@@H](CO)[C@H](O)[C@H]1O\n",
              "4       ZINC000000018279          CS[C@@H]1[C@@H](O)CN[C@@H](CO)[C@@H]1O\n",
              "...                  ...                                             ...\n",
              "427851  ZINC000242463989                                  O[Cl+3](O)(O)O\n",
              "427852  ZINC000247713634                    O1[SiH2][SiH2]O[SiH2][SiH2]1\n",
              "427853  ZINC000252581626                                    O[Si](O)(O)F\n",
              "427854  ZINC000685945533                              Cn1nnnc1S(=O)(=O)F\n",
              "427855  ZINC000725262634                            Cn1nnc(S(=O)(=O)F)n1\n",
              "\n",
              "[427856 rows x 2 columns]"
            ]
          },
          "metadata": {
            "tags": []
          },
          "execution_count": 215
        }
      ]
    },
    {
      "cell_type": "code",
      "metadata": {
        "colab": {
          "base_uri": "https://localhost:8080/"
        },
        "id": "ox-GDOPdtBW8",
        "outputId": "6af601cc-3269-4d3a-b807-09b8987b2879"
      },
      "source": [
        "data['smiles'].apply(len).max()"
      ],
      "execution_count": 216,
      "outputs": [
        {
          "output_type": "execute_result",
          "data": {
            "text/plain": [
              "62"
            ]
          },
          "metadata": {
            "tags": []
          },
          "execution_count": 216
        }
      ]
    },
    {
      "cell_type": "code",
      "metadata": {
        "colab": {
          "base_uri": "https://localhost:8080/"
        },
        "id": "JuGqxIMmtIXX",
        "outputId": "f42ad2f7-add8-4e87-a4d7-0e2a3583dcaa"
      },
      "source": [
        "data['smiles'].apply(len).min()"
      ],
      "execution_count": 217,
      "outputs": [
        {
          "output_type": "execute_result",
          "data": {
            "text/plain": [
              "4"
            ]
          },
          "metadata": {
            "tags": []
          },
          "execution_count": 217
        }
      ]
    },
    {
      "cell_type": "code",
      "metadata": {
        "id": "6x-TbY7lfM-1"
      },
      "source": [
        "SMILES_CHARS = [' ',\n",
        "                  '#', '%', '(', ')', '+', '-', '.', '/',\n",
        "                  '0', '1', '2', '3', '4', '5', '6', '7', '8', '9',\n",
        "                  '=', '@',\n",
        "                  'A', 'B', 'C', 'F', 'H', 'I', 'K', 'L', 'M', 'N', 'O', 'P',\n",
        "                  'R', 'S', 'T', 'V', 'X', 'Z',\n",
        "                  '[', '\\\\', ']',\n",
        "                  'a', 'b', 'c', 'e', 'g', 'i', 'l', 'n', 'o', 'p', 'r', 's',\n",
        "                  't', 'u']\n",
        "smi2index = dict( (c,i) for i,c in enumerate( SMILES_CHARS ) )\n",
        "index2smi = dict( (i,c) for i,c in enumerate( SMILES_CHARS ) )\n",
        "def smiles_encoder( smiles, maxlen=62 ):\n",
        "    smiles = Chem.MolToSmiles(Chem.MolFromSmiles( smiles ))\n",
        "    X = np.zeros( ( maxlen, len( SMILES_CHARS ) ) )\n",
        "    for i, c in enumerate( smiles ):\n",
        "        X[i, smi2index[c]] = 1\n",
        "    return X\n",
        "def smiles_decoder( X ):\n",
        "    smi = ''\n",
        "    X = X.argmax( axis=-1 )\n",
        "    for i in X:\n",
        "        smi += index2smi[i]\n",
        "    return smi"
      ],
      "execution_count": 218,
      "outputs": []
    },
    {
      "cell_type": "code",
      "metadata": {
        "id": "ju2aBw-Gff9G",
        "colab": {
          "base_uri": "https://localhost:8080/",
          "height": 231
        },
        "outputId": "1f663fec-42de-4179-bcb5-009bc3eea505"
      },
      "source": [
        "\n",
        "x = []\n",
        "for i in data['smiles'][:400000]:\n",
        "    #print(smiles_encoder(i))\n",
        "    x.append(smiles_encoder(i))\n",
        "arr = np.array(x)"
      ],
      "execution_count": 1,
      "outputs": [
        {
          "output_type": "error",
          "ename": "NameError",
          "evalue": "ignored",
          "traceback": [
            "\u001b[0;31m---------------------------------------------------------------------------\u001b[0m",
            "\u001b[0;31mNameError\u001b[0m                                 Traceback (most recent call last)",
            "\u001b[0;32m<ipython-input-1-9fc0d13fc1aa>\u001b[0m in \u001b[0;36m<module>\u001b[0;34m()\u001b[0m\n\u001b[1;32m      1\u001b[0m \u001b[0;34m\u001b[0m\u001b[0m\n\u001b[1;32m      2\u001b[0m \u001b[0mx\u001b[0m \u001b[0;34m=\u001b[0m \u001b[0;34m[\u001b[0m\u001b[0;34m]\u001b[0m\u001b[0;34m\u001b[0m\u001b[0;34m\u001b[0m\u001b[0m\n\u001b[0;32m----> 3\u001b[0;31m \u001b[0;32mfor\u001b[0m \u001b[0mi\u001b[0m \u001b[0;32min\u001b[0m \u001b[0mdata\u001b[0m\u001b[0;34m[\u001b[0m\u001b[0;34m'smiles'\u001b[0m\u001b[0;34m]\u001b[0m\u001b[0;34m[\u001b[0m\u001b[0;34m:\u001b[0m\u001b[0;36m400000\u001b[0m\u001b[0;34m]\u001b[0m\u001b[0;34m:\u001b[0m\u001b[0;34m\u001b[0m\u001b[0;34m\u001b[0m\u001b[0m\n\u001b[0m\u001b[1;32m      4\u001b[0m     \u001b[0;31m#print(smiles_encoder(i))\u001b[0m\u001b[0;34m\u001b[0m\u001b[0;34m\u001b[0m\u001b[0;34m\u001b[0m\u001b[0m\n\u001b[1;32m      5\u001b[0m     \u001b[0mx\u001b[0m\u001b[0;34m.\u001b[0m\u001b[0mappend\u001b[0m\u001b[0;34m(\u001b[0m\u001b[0msmiles_encoder\u001b[0m\u001b[0;34m(\u001b[0m\u001b[0mi\u001b[0m\u001b[0;34m)\u001b[0m\u001b[0;34m)\u001b[0m\u001b[0;34m\u001b[0m\u001b[0;34m\u001b[0m\u001b[0m\n",
            "\u001b[0;31mNameError\u001b[0m: name 'data' is not defined"
          ]
        }
      ]
    },
    {
      "cell_type": "code",
      "metadata": {
        "id": "EyGDicCqKHCy"
      },
      "source": [
        "arr.shape"
      ],
      "execution_count": null,
      "outputs": []
    },
    {
      "cell_type": "code",
      "metadata": {
        "id": "cxJ8aH-BQavn"
      },
      "source": [
        "arr[0].shape"
      ],
      "execution_count": null,
      "outputs": []
    },
    {
      "cell_type": "code",
      "metadata": {
        "id": "2Qx1k17Kfk_t"
      },
      "source": [
        "arr = arr.reshape(-1,62,56,1)"
      ],
      "execution_count": null,
      "outputs": []
    },
    {
      "cell_type": "code",
      "metadata": {
        "id": "eHHQTQj2-cx_"
      },
      "source": [
        "arr.shape"
      ],
      "execution_count": null,
      "outputs": []
    },
    {
      "cell_type": "code",
      "metadata": {
        "id": "z4d0siQUVZRC"
      },
      "source": [
        "arr"
      ],
      "execution_count": null,
      "outputs": []
    },
    {
      "cell_type": "code",
      "metadata": {
        "id": "LFI3hiWViOiX"
      },
      "source": [
        "# #Hyperparameters\n",
        "\n",
        "# #Number of epochs for training\n",
        "# NUM_EPOCHS = 35\n",
        "\n",
        "# #Hidden channel dimension\n",
        "# hidden_channels = 32\n",
        "\n",
        "# #Latent space dimension\n",
        "# latent_dim = 196\n",
        "\n",
        "# #Convolutional layer kernel size\n",
        "# kernel_size = 3\n",
        "\n",
        "# #Stride is the number of pixels shifts over the input matrix  \n",
        "# stride = 1\n",
        "\n",
        "# #Padding size to add around the matrix.\n",
        "# padding = 1"
      ],
      "execution_count": null,
      "outputs": []
    },
    {
      "cell_type": "code",
      "metadata": {
        "id": "r5FoBrgeF5ZU"
      },
      "source": [
        "img_shape = (62, 56,1)\n",
        "batch_size = 128\n",
        "latent_dim = 2\n",
        "input_img = keras.Input(shape=img_shape)\n",
        "x = layers.Conv1D(32, 7,padding='same',activation='relu')(input_img)\n",
        "x = layers.Conv2D(128, 3,padding='same',activation='relu',strides=(2, 2))(x)\n",
        "x = layers.Conv2D(128, 3,padding='same',activation='relu')(x)\n",
        "x = layers.Conv2D(128, 3,padding='same',activation='relu')(x)\n",
        "shape_before_flattening = K.int_shape(x)\n",
        "x = layers.Flatten()(x)\n",
        "x = layers.Dense(32, activation='relu')(x)\n",
        "z_mu = layers.Dense(latent_dim)(x)\n",
        "z_log_sigma = layers.Dense(latent_dim)(x)"
      ],
      "execution_count": null,
      "outputs": []
    },
    {
      "cell_type": "code",
      "metadata": {
        "id": "ibWwwiPZv6Dy"
      },
      "source": [
        "def sampling(args):\n",
        "  z_mu, z_log_sigma = args\n",
        "  epsilon = K.random_normal(shape=(K.shape(z_mu)[0], latent_dim),\n",
        "  mean=0., stddev=1.)\n",
        "  return z_mu + K.exp(z_log_sigma) * epsilon\n",
        "z = layers.Lambda(sampling)([z_mu, z_log_sigma])"
      ],
      "execution_count": null,
      "outputs": []
    },
    {
      "cell_type": "code",
      "metadata": {
        "id": "x2pDm2Xfv6X-"
      },
      "source": [
        "decoder_input = layers.Input(K.int_shape(z)[1:])\n",
        "x = layers.Dense(np.prod(shape_before_flattening[1:]),\n",
        "                 activation='relu')(decoder_input)\n",
        "x = layers.Reshape(shape_before_flattening[1:])(x)\n",
        "x = layers.Conv2DTranspose(32, 3,\n",
        "                           padding='same',\n",
        "                           activation='relu',\n",
        "                           strides=(2, 2))(x)\n",
        "x = layers.Conv2D(1, 3,\n",
        "                  padding='same',\n",
        "                  activation='sigmoid')(x)\n",
        "decoder = Model(decoder_input, x)\n",
        "z_decoded = decoder(z)"
      ],
      "execution_count": null,
      "outputs": []
    },
    {
      "cell_type": "code",
      "metadata": {
        "id": "W8-s3hMF8qEC"
      },
      "source": [
        "class CustomVariationalLayer(keras.layers.Layer):\n",
        "    def vae_loss(self, x, z_decoded):\n",
        "        x = K.flatten(x)\n",
        "        z_decoded = K.flatten(z_decoded)\n",
        "        xent_loss = keras.metrics.binary_crossentropy(x, z_decoded) #Recin loss\n",
        "        kl_loss = -5e-4 * K.mean(1 + z_log_sigma - K.square(z_mu) - K.exp(z_log_sigma), axis=-1) #KL loss\n",
        "        return K.mean(xent_loss + kl_loss)\n",
        "\n",
        "    def call(self, inputs):\n",
        "        x = inputs[0]\n",
        "        z_decoded = inputs[1]\n",
        "        loss = self.vae_loss(x, z_decoded)\n",
        "        self.add_loss(loss, inputs=inputs)\n",
        "        return x\n",
        "\n",
        "y = CustomVariationalLayer()([input_img, z_decoded])"
      ],
      "execution_count": null,
      "outputs": []
    },
    {
      "cell_type": "code",
      "metadata": {
        "id": "P3Wm2AvY9MGf"
      },
      "source": [
        "# VAE model statement\n",
        "vae = Model(input_img, y)\n",
        "vae.compile(optimizer='adam')\n",
        "vae.summary()"
      ],
      "execution_count": null,
      "outputs": []
    },
    {
      "cell_type": "code",
      "metadata": {
        "id": "Jmdg7QJWVyl4"
      },
      "source": [
        "arr.shape"
      ],
      "execution_count": null,
      "outputs": []
    },
    {
      "cell_type": "code",
      "metadata": {
        "id": "VSzB5CxKV0rN"
      },
      "source": [
        "x.shape"
      ],
      "execution_count": null,
      "outputs": []
    },
    {
      "cell_type": "code",
      "metadata": {
        "id": "Jr4cResKV74w"
      },
      "source": [
        "y.shape"
      ],
      "execution_count": null,
      "outputs": []
    },
    {
      "cell_type": "code",
      "metadata": {
        "id": "5veujgFA9UtU"
      },
      "source": [
        "vae.fit(arr,shuffle=True,epochs=10)"
      ],
      "execution_count": null,
      "outputs": []
    },
    {
      "cell_type": "code",
      "metadata": {
        "id": "Pzs06iOX9qI0"
      },
      "source": [
        "sample_vector = np.array([[0,5]])\n",
        "result = decoder.predict(sample_vector)"
      ],
      "execution_count": null,
      "outputs": []
    },
    {
      "cell_type": "code",
      "metadata": {
        "id": "UoI_yBpb14HL"
      },
      "source": [
        "result"
      ],
      "execution_count": null,
      "outputs": []
    },
    {
      "cell_type": "code",
      "metadata": {
        "id": "GQNJprod1Xv9"
      },
      "source": [
        "import random\r\n",
        "result = []\r\n",
        "for i in random.sample(range(1, 10000000), 10):\r\n",
        "  for j in random.sample(range(1, 10000000), 10):\r\n",
        "    sample_vector = np.array([[i,j]])\r\n",
        "    res = decoder.predict(sample_vector)\r\n",
        "    result.append( (smiles_decoder(res[0].reshape(62,56)).replace(\" \", \"\") ))\r\n",
        "    # print(i,j)\r\n",
        "set(result)"
      ],
      "execution_count": null,
      "outputs": []
    },
    {
      "cell_type": "code",
      "metadata": {
        "id": "x1PtQOnx3Hbx"
      },
      "source": [
        "res[0].reshape(62,56).shape"
      ],
      "execution_count": null,
      "outputs": []
    },
    {
      "cell_type": "code",
      "metadata": {
        "id": "yIOIn2hrDf_l"
      },
      "source": [
        "result = result[0].reshape(62,56)"
      ],
      "execution_count": null,
      "outputs": []
    },
    {
      "cell_type": "code",
      "metadata": {
        "id": "Gc-fneGLDwIH"
      },
      "source": [
        "result.shape"
      ],
      "execution_count": null,
      "outputs": []
    },
    {
      "cell_type": "code",
      "metadata": {
        "id": "pGokHSiIy-n1"
      },
      "source": [
        ""
      ],
      "execution_count": null,
      "outputs": []
    },
    {
      "cell_type": "code",
      "metadata": {
        "id": "knOSElh3D8Dd"
      },
      "source": [
        "# import rdkit\n",
        "# rdkit.Chem.MolDrawing(smiles_decoder(result))"
      ],
      "execution_count": null,
      "outputs": []
    },
    {
      "cell_type": "code",
      "metadata": {
        "id": "4HA_U1V-usHA"
      },
      "source": [
        "from rdkit.Chem import Draw\n",
        "mole_smile = \"C[C@H]1[C@@H](O)[C@H](CO)O[C@@H](O)[C@@H]1N\"\n",
        "mole = Chem.MolFromSmiles(mole_smile)\n",
        "Draw.MolToMPL(mole, size=(200,200))\n",
        "plt.show()"
      ],
      "execution_count": null,
      "outputs": []
    },
    {
      "cell_type": "code",
      "metadata": {
        "id": "53zgDxuXE8mL"
      },
      "source": [
        ""
      ],
      "execution_count": null,
      "outputs": []
    },
    {
      "cell_type": "code",
      "metadata": {
        "id": "YpG_tNbb10mh"
      },
      "source": [
        ""
      ],
      "execution_count": null,
      "outputs": []
    }
  ]
}
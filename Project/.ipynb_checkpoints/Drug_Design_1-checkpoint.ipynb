{
  "nbformat": 4,
  "nbformat_minor": 0,
  "metadata": {
    "colab": {
      "name": "Drug_Design_1.ipynb",
      "provenance": [],
      "collapsed_sections": [],
      "machine_shape": "hm"
    },
    "kernelspec": {
      "display_name": "Python 3",
      "name": "python3"
    },
    "accelerator": "GPU"
  },
  "cells": [
    {
      "cell_type": "code",
      "metadata": {
        "id": "7nUpjRbUIkjK"
      },
      "source": [
        "import argparse\n",
        "import urllib\n",
        "import gzip\n",
        "import shutil\n",
        "import pandas as pd\n",
        "import numpy as np\n",
        "import logging\n",
        "from tqdm import tqdm\n",
        "from sklearn.model_selection import train_test_split\n",
        "import tensorflow as tf\n",
        "import os\n",
        "import matplotlib.pyplot as plt"
      ],
      "execution_count": 10,
      "outputs": []
    },
    {
      "cell_type": "code",
      "metadata": {
        "id": "HDIaoEdrHOrQ"
      },
      "source": [
        "# from google.colab import drive\n",
        "# drive.mount('/content/drive')"
      ],
      "execution_count": 11,
      "outputs": []
    },
    {
      "cell_type": "code",
      "metadata": {
        "colab": {
          "base_uri": "https://localhost:8080/",
          "height": 419
        },
        "id": "8vWO7UdLeq-w",
        "outputId": "35f7c307-2032-49eb-d6ec-dabb37ee067b"
      },
      "source": [
        "data = pd.read_csv('/content/drive/MyDrive/Dataset/MoleculeSythesis/dataset/AA.csv')\n",
        "data = data[:250000]\n",
        "data"
      ],
      "execution_count": 12,
      "outputs": [
        {
          "output_type": "execute_result",
          "data": {
            "text/html": [
              "<div>\n",
              "<style scoped>\n",
              "    .dataframe tbody tr th:only-of-type {\n",
              "        vertical-align: middle;\n",
              "    }\n",
              "\n",
              "    .dataframe tbody tr th {\n",
              "        vertical-align: top;\n",
              "    }\n",
              "\n",
              "    .dataframe thead th {\n",
              "        text-align: right;\n",
              "    }\n",
              "</style>\n",
              "<table border=\"1\" class=\"dataframe\">\n",
              "  <thead>\n",
              "    <tr style=\"text-align: right;\">\n",
              "      <th></th>\n",
              "      <th>zinc_id</th>\n",
              "      <th>smiles</th>\n",
              "    </tr>\n",
              "  </thead>\n",
              "  <tbody>\n",
              "    <tr>\n",
              "      <th>0</th>\n",
              "      <td>ZINC000000008151</td>\n",
              "      <td>C[C@H]1[C@@H](O)[C@H](CO)O[C@@H](O)[C@@H]1N</td>\n",
              "    </tr>\n",
              "    <tr>\n",
              "      <th>1</th>\n",
              "      <td>ZINC000000008153</td>\n",
              "      <td>CC[C@@H]1[C@@H](N)[C@@H](O)O[C@@H](CO)[C@@H]1O</td>\n",
              "    </tr>\n",
              "    <tr>\n",
              "      <th>2</th>\n",
              "      <td>ZINC000000008155</td>\n",
              "      <td>CC1(C)[C@@H](N)[C@@H](O)O[C@@H](CO)[C@@H]1O</td>\n",
              "    </tr>\n",
              "    <tr>\n",
              "      <th>3</th>\n",
              "      <td>ZINC000000018276</td>\n",
              "      <td>CS[C@@H]1CN[C@@H](CO)[C@H](O)[C@H]1O</td>\n",
              "    </tr>\n",
              "    <tr>\n",
              "      <th>4</th>\n",
              "      <td>ZINC000000018279</td>\n",
              "      <td>CS[C@@H]1[C@@H](O)CN[C@@H](CO)[C@@H]1O</td>\n",
              "    </tr>\n",
              "    <tr>\n",
              "      <th>...</th>\n",
              "      <td>...</td>\n",
              "      <td>...</td>\n",
              "    </tr>\n",
              "    <tr>\n",
              "      <th>249995</th>\n",
              "      <td>ZINC000086453817</td>\n",
              "      <td>CNC1=NC(=O)C2(CC2)C(=O)N1</td>\n",
              "    </tr>\n",
              "    <tr>\n",
              "      <th>249996</th>\n",
              "      <td>ZINC000086456418</td>\n",
              "      <td>N=C(N)CN1CCNCC1</td>\n",
              "    </tr>\n",
              "    <tr>\n",
              "      <th>249997</th>\n",
              "      <td>ZINC000086456718</td>\n",
              "      <td>CN(C)CCn1nnnc1N</td>\n",
              "    </tr>\n",
              "    <tr>\n",
              "      <th>249998</th>\n",
              "      <td>ZINC000086456731</td>\n",
              "      <td>Nc1nnnn1CCN1CCOCC1</td>\n",
              "    </tr>\n",
              "    <tr>\n",
              "      <th>249999</th>\n",
              "      <td>ZINC000086456794</td>\n",
              "      <td>CNC(=O)Cn1nnnc1N</td>\n",
              "    </tr>\n",
              "  </tbody>\n",
              "</table>\n",
              "<p>250000 rows × 2 columns</p>\n",
              "</div>"
            ],
            "text/plain": [
              "                 zinc_id                                          smiles\n",
              "0       ZINC000000008151     C[C@H]1[C@@H](O)[C@H](CO)O[C@@H](O)[C@@H]1N\n",
              "1       ZINC000000008153  CC[C@@H]1[C@@H](N)[C@@H](O)O[C@@H](CO)[C@@H]1O\n",
              "2       ZINC000000008155     CC1(C)[C@@H](N)[C@@H](O)O[C@@H](CO)[C@@H]1O\n",
              "3       ZINC000000018276            CS[C@@H]1CN[C@@H](CO)[C@H](O)[C@H]1O\n",
              "4       ZINC000000018279          CS[C@@H]1[C@@H](O)CN[C@@H](CO)[C@@H]1O\n",
              "...                  ...                                             ...\n",
              "249995  ZINC000086453817                       CNC1=NC(=O)C2(CC2)C(=O)N1\n",
              "249996  ZINC000086456418                                 N=C(N)CN1CCNCC1\n",
              "249997  ZINC000086456718                                 CN(C)CCn1nnnc1N\n",
              "249998  ZINC000086456731                              Nc1nnnn1CCN1CCOCC1\n",
              "249999  ZINC000086456794                                CNC(=O)Cn1nnnc1N\n",
              "\n",
              "[250000 rows x 2 columns]"
            ]
          },
          "metadata": {
            "tags": []
          },
          "execution_count": 12
        }
      ]
    },
    {
      "cell_type": "code",
      "metadata": {
        "colab": {
          "base_uri": "https://localhost:8080/"
        },
        "id": "ox-GDOPdtBW8",
        "outputId": "af14f699-3aba-4340-9885-934278b68dd2"
      },
      "source": [
        "data['smiles'].apply(len).max()"
      ],
      "execution_count": 13,
      "outputs": [
        {
          "output_type": "execute_result",
          "data": {
            "text/plain": [
              "62"
            ]
          },
          "metadata": {
            "tags": []
          },
          "execution_count": 13
        }
      ]
    },
    {
      "cell_type": "code",
      "metadata": {
        "colab": {
          "base_uri": "https://localhost:8080/"
        },
        "id": "rPPLH98PIUPJ",
        "outputId": "ae564d35-18f5-41d7-e636-d379c65bb0f5"
      },
      "source": [
        "smiles_data = data['smiles'][:250000]\n",
        "smiles_data = np.array(smiles_data).reshape(-1)\n",
        "print('Number of mols: '+str(len(smiles_data)))\n",
        "idx = [i for i, x in enumerate(smiles_data) if len(x)<=120]\n",
        "print('Number of valid mols: '+str(len(idx)))\n",
        "smiles_data = smiles_data[idx]\n",
        "print('Getting a unique character set...')"
      ],
      "execution_count": 14,
      "outputs": [
        {
          "output_type": "stream",
          "text": [
            "Number of mols: 250000\n",
            "Number of valid mols: 250000\n",
            "Getting a unique character set...\n"
          ],
          "name": "stdout"
        }
      ]
    },
    {
      "cell_type": "code",
      "metadata": {
        "colab": {
          "base_uri": "https://localhost:8080/"
        },
        "id": "WwtGUpnHIv6l",
        "outputId": "bcce2762-11b0-47d1-ada9-1a23366d6fa6"
      },
      "source": [
        "char_set = set()\n",
        "for i in tqdm(range(len(smiles_data))):\n",
        "    smiles_data[i] = smiles_data[i].ljust(62)\n",
        "    char_set = char_set.union(set(smiles_data[i]))\n",
        "char_set_list = sorted(list(char_set))\n",
        "print('Number of characters: '+str(len(char_set_list)))"
      ],
      "execution_count": 15,
      "outputs": [
        {
          "output_type": "stream",
          "text": [
            "100%|██████████| 250000/250000 [00:00<00:00, 389303.60it/s]"
          ],
          "name": "stderr"
        },
        {
          "output_type": "stream",
          "text": [
            "Number of characters: 37\n"
          ],
          "name": "stdout"
        },
        {
          "output_type": "stream",
          "text": [
            "\n"
          ],
          "name": "stderr"
        }
      ]
    },
    {
      "cell_type": "code",
      "metadata": {
        "colab": {
          "base_uri": "https://localhost:8080/"
        },
        "id": "mb4hxktHI9W5",
        "outputId": "ab51db10-f413-485e-96e2-61a741022860"
      },
      "source": [
        "len(char_set_list)"
      ],
      "execution_count": 16,
      "outputs": [
        {
          "output_type": "execute_result",
          "data": {
            "text/plain": [
              "37"
            ]
          },
          "metadata": {
            "tags": []
          },
          "execution_count": 16
        }
      ]
    },
    {
      "cell_type": "code",
      "metadata": {
        "colab": {
          "base_uri": "https://localhost:8080/",
          "height": 351
        },
        "id": "7ZBw5c2uKN0J",
        "outputId": "3769bd2f-45c7-490c-c80d-c91136cfac52"
      },
      "source": [
        "fig, axes = plt.subplots(nrows = 1, ncols = 3, figsize = (15, 5))\n",
        "axes[0].set_title(\"SMILES length distribution\")\n",
        "axes[0].hist(data['smiles'].str.len(), align = 'left')\n",
        "axes[1].set_title(\"SMILES length less or equal than 60 distribution\")\n",
        "axes[1].hist(data[data['smiles'].str.len() <= 60]['smiles'].str.len(), align = 'left')\n",
        "axes[2].set_title(\"SMILES length greater than 60 distribution\")\n",
        "axes[2].hist(data[data['smiles'].str.len() > 60]['smiles'].str.len(), align = 'left')\n",
        "fig.tight_layout()\n",
        "\n",
        "plt.show()"
      ],
      "execution_count": 17,
      "outputs": [
        {
          "output_type": "display_data",
          "data": {
            "image/png": "[encoded data removed]",
            "text/plain": [
              "<Figure size 1080x360 with 3 Axes>"
            ]
          },
          "metadata": {
            "tags": [],
            "needs_background": "light"
          }
        }
      ]
    },
    {
      "cell_type": "code",
      "metadata": {
        "colab": {
          "base_uri": "https://localhost:8080/"
        },
        "id": "YAf0ySkCK8P4",
        "outputId": "816d8c6e-1fbe-40ed-a0eb-e29941e0f89a"
      },
      "source": [
        "print(\"SMILES max length: {0}\".format(data['smiles'].str.len().max()))\n",
        "print(\"SMILES min length: {0}\".format(data['smiles'].str.len().min()))\n",
        "print(\"Number of SMILES with length less or equal than 60: {0}\".format(len(data[data['smiles'].str.len() <= 60])))\n",
        "print(\"Number of SMILES with length grather than 60: {0}\".format(len(data[data['smiles'].str.len() > 60])))"
      ],
      "execution_count": 18,
      "outputs": [
        {
          "output_type": "stream",
          "text": [
            "SMILES max length: 62\n",
            "SMILES min length: 4\n",
            "Number of SMILES with length less or equal than 60: 249996\n",
            "Number of SMILES with length grather than 60: 4\n"
          ],
          "name": "stdout"
        }
      ]
    },
    {
      "cell_type": "code",
      "metadata": {
        "colab": {
          "base_uri": "https://localhost:8080/"
        },
        "id": "ZBc7b-tLLdM8",
        "outputId": "c47f4f26-2311-4d0e-b5bb-1b488c16f2f4"
      },
      "source": [
        "# Charset Sanity Check\n",
        "charset = []\n",
        "for smile in tqdm(data['smiles'], total = len(data['smiles'])):\n",
        "    for c in smile:\n",
        "        if c not in charset:\n",
        "            charset.append(c)\n",
        "\n",
        "isbreak = False\n",
        "for l in char_set_list:\n",
        "    if l not in charset:\n",
        "        isbreak = True\n",
        "        break\n",
        "\n",
        "if not isbreak:\n",
        "    print(\"The vocabulary CHARSET contain all needed characters.\")\n",
        "else:\n",
        "    print(\"The vocabulary CHARSET does not contain all needed characters.\")"
      ],
      "execution_count": 19,
      "outputs": [
        {
          "output_type": "stream",
          "text": [
            "100%|██████████| 250000/250000 [00:01<00:00, 209755.22it/s]"
          ],
          "name": "stderr"
        },
        {
          "output_type": "stream",
          "text": [
            "The vocabulary CHARSET does not contain all needed characters.\n"
          ],
          "name": "stdout"
        },
        {
          "output_type": "stream",
          "text": [
            "\n"
          ],
          "name": "stderr"
        }
      ]
    },
    {
      "cell_type": "code",
      "metadata": {
        "colab": {
          "base_uri": "https://localhost:8080/"
        },
        "id": "QX059rjwMwQL",
        "outputId": "fc28b8b8-2286-44df-f06d-89b2c51f683a"
      },
      "source": [
        "encoder_dict =   dict((c,i) for i,c in enumerate(charset))\n",
        "decoder_dict =   dict((i,c) for i,c in enumerate(charset))\n",
        "\n",
        "def one_hot_encoder(smiles, length = 60):\n",
        "  X = np.zeros((length, len(charset)))\n",
        "  for i, c in enumerate( smiles ):\n",
        "    X[i, encoder_dict[c]] = 1\n",
        "    return X\n",
        "\n",
        "def one_hot_decoder(X):\n",
        "  smi = ''\n",
        "  X = X.argmax( axis=-1 )\n",
        "  for i in X:\n",
        "    smi += decoder_dict[i]\n",
        "  return smi\n",
        "print(encoder_dict)\n",
        "print(decoder_dict)"
      ],
      "execution_count": 20,
      "outputs": [
        {
          "output_type": "stream",
          "text": [
            "{'C': 0, '[': 1, '@': 2, 'H': 3, ']': 4, '1': 5, '(': 6, 'O': 7, ')': 8, 'N': 9, 'S': 10, '=': 11, '2': 12, 'c': 13, 'n': 14, '+': 15, '-': 16, 'F': 17, '3': 18, 'o': 19, '#': 20, '/': 21, '4': 22, '\\\\': 23, 'P': 24, 'l': 25, 's': 26, '5': 27, '8': 28, '7': 29, '6': 30, 'B': 31, 'r': 32, 'p': 33, 'i': 34, 'I': 35}\n",
            "{0: 'C', 1: '[', 2: '@', 3: 'H', 4: ']', 5: '1', 6: '(', 7: 'O', 8: ')', 9: 'N', 10: 'S', 11: '=', 12: '2', 13: 'c', 14: 'n', 15: '+', 16: '-', 17: 'F', 18: '3', 19: 'o', 20: '#', 21: '/', 22: '4', 23: '\\\\', 24: 'P', 25: 'l', 26: 's', 27: '5', 28: '8', 29: '7', 30: '6', 31: 'B', 32: 'r', 33: 'p', 34: 'i', 35: 'I'}\n"
          ],
          "name": "stdout"
        }
      ]
    },
    {
      "cell_type": "code",
      "metadata": {
        "colab": {
          "base_uri": "https://localhost:8080/"
        },
        "id": "axzFGl-EM7rT",
        "outputId": "401b4b1c-d6de-4d23-81bb-882c6ca0fff4"
      },
      "source": [
        "x_train_encoded = []\n",
        "x_train_decoded = []\n",
        "for item in data['smiles']:\n",
        "  x_train_encoded.append(one_hot_encoder(item))\n",
        "for item in x_train_encoded:\n",
        "  x_train_decoded.append(one_hot_decoder(item))\n",
        "x_train_encoded = np.array(x_train_encoded)\n",
        "# x_train_decoded = np.array(x_train_decoded)\n",
        "print(x_train_encoded.shape)\n",
        "# print(x_train_decoded.shape)"
      ],
      "execution_count": 21,
      "outputs": [
        {
          "output_type": "stream",
          "text": [
            "(250000, 60, 36)\n"
          ],
          "name": "stdout"
        }
      ]
    },
    {
      "cell_type": "code",
      "metadata": {
        "colab": {
          "base_uri": "https://localhost:8080/"
        },
        "id": "J5QVuTpMO8rP",
        "outputId": "e0469b58-6a50-4e9b-eacc-93ace97ea59b"
      },
      "source": [
        "x_train_encoded = x_train_encoded.reshape(-1,60,36,1)\n",
        "x_train_encoded.shape"
      ],
      "execution_count": 22,
      "outputs": [
        {
          "output_type": "execute_result",
          "data": {
            "text/plain": [
              "(250000, 60, 36, 1)"
            ]
          },
          "metadata": {
            "tags": []
          },
          "execution_count": 22
        }
      ]
    },
    {
      "cell_type": "code",
      "metadata": {
        "id": "Bz8Mje5L0UI7"
      },
      "source": [
        "import pandas as pd\n",
        "import numpy as np\n",
        "import matplotlib\n",
        "import matplotlib.pyplot as plt \n",
        "import matplotlib.patches as mpatches \n",
        "%matplotlib inline\n",
        "from scipy.stats import norm \n",
        "import keras\n",
        "from keras import layers\n",
        "from keras.models import Model \n",
        "from keras import metrics\n",
        "from keras import backend as K \n",
        "K.clear_session()\n",
        "np.random.seed(237)\n",
        "import scipy.stats as st\n",
        "import tensorflow.compat.v1.keras.backend as K \n",
        "import tensorflow as tf \n",
        "tf.compat.v1.disable_eager_execution()\n",
        "from tensorflow.keras.optimizers import Adam \n",
        "import warnings \n",
        "warnings.filterwarnings(\"ignore\")\n",
        "import matplotlib.pyplot as plt\n",
        "from mpl_toolkits.mplot3d import Axes3D \n",
        "import numpy as np\n",
        "from scipy.stats import multivariate_normal"
      ],
      "execution_count": 23,
      "outputs": []
    },
    {
      "cell_type": "code",
      "metadata": {
        "id": "l1srg2CXj5Xv"
      },
      "source": [
        "def sampling(args):\n",
        "  z_mu, z_log_sigma = args\n",
        "  epsilon = K.random_normal(shape=(K.shape(z_mu)[0], latent_dim),\n",
        "  mean=0., stddev=1.)\n",
        "  return z_mu + K.exp(z_log_sigma) * epsilon"
      ],
      "execution_count": 24,
      "outputs": []
    },
    {
      "cell_type": "code",
      "metadata": {
        "id": "r5FoBrgeF5ZU",
        "colab": {
          "base_uri": "https://localhost:8080/"
        },
        "outputId": "c0d7091b-48cb-40b8-b6a3-266484177585"
      },
      "source": [
        "img_shape = (60, 36, 1)\n",
        "batch_size = 10000\n",
        "latent_dim = 2\n",
        "input_img = tf.keras.Input(shape=img_shape)\n",
        "\n",
        "x = layers.Conv1D(32, 7,\n",
        "                  strides = 1)(input_img)\n",
        "x = layers.BatchNormalization()(x)\n",
        "x = layers.Activation('relu')(x)\n",
        "\n",
        "x = layers.Conv1D(64, 7,\n",
        "                  strides = 1)(x)\n",
        "x = layers.BatchNormalization()(x)\n",
        "x = layers.Activation('relu')(x)\n",
        "\n",
        "x = layers.Conv1D(128, 7,\n",
        "                  \n",
        "                  strides = 1)(x)\n",
        "x = layers.BatchNormalization()(x)\n",
        "x = layers.Activation('relu')(x)\n",
        "\n",
        "x = layers.Dense(512)(x)\n",
        "x = layers.BatchNormalization()(x)\n",
        "x = layers.Activation('relu')(x)\n",
        "\n",
        "shape_before_flattening = K.int_shape(x)\n",
        "x = layers.Flatten()(x)\n",
        "z_mu = layers.Dense(latent_dim)(x)\n",
        "z_log_sigma = layers.Dense(latent_dim)(x)\n",
        "z = layers.Lambda(sampling)([z_mu, z_log_sigma])\n",
        "\n",
        "encoder = tf.keras.Model(input_img,[z_mu,z_log_sigma])\n",
        "encoder.summary()"
      ],
      "execution_count": 25,
      "outputs": [
        {
          "output_type": "stream",
          "text": [
            "Model: \"model\"\n",
            "__________________________________________________________________________________________________\n",
            "Layer (type)                    Output Shape         Param #     Connected to                     \n",
            "==================================================================================================\n",
            "input_1 (InputLayer)            [(None, 60, 36, 1)]  0                                            \n",
            "__________________________________________________________________________________________________\n",
            "conv1d (Conv1D)                 (None, 60, 30, 32)   256         input_1[0][0]                    \n",
            "__________________________________________________________________________________________________\n",
            "batch_normalization (BatchNorma (None, 60, 30, 32)   128         conv1d[0][0]                     \n",
            "__________________________________________________________________________________________________\n",
            "activation (Activation)         (None, 60, 30, 32)   0           batch_normalization[0][0]        \n",
            "__________________________________________________________________________________________________\n",
            "conv1d_1 (Conv1D)               (None, 60, 24, 64)   14400       activation[0][0]                 \n",
            "__________________________________________________________________________________________________\n",
            "batch_normalization_1 (BatchNor (None, 60, 24, 64)   256         conv1d_1[0][0]                   \n",
            "__________________________________________________________________________________________________\n",
            "activation_1 (Activation)       (None, 60, 24, 64)   0           batch_normalization_1[0][0]      \n",
            "__________________________________________________________________________________________________\n",
            "conv1d_2 (Conv1D)               (None, 60, 18, 128)  57472       activation_1[0][0]               \n",
            "__________________________________________________________________________________________________\n",
            "batch_normalization_2 (BatchNor (None, 60, 18, 128)  512         conv1d_2[0][0]                   \n",
            "__________________________________________________________________________________________________\n",
            "activation_2 (Activation)       (None, 60, 18, 128)  0           batch_normalization_2[0][0]      \n",
            "__________________________________________________________________________________________________\n",
            "dense (Dense)                   (None, 60, 18, 512)  66048       activation_2[0][0]               \n",
            "__________________________________________________________________________________________________\n",
            "batch_normalization_3 (BatchNor (None, 60, 18, 512)  2048        dense[0][0]                      \n",
            "__________________________________________________________________________________________________\n",
            "activation_3 (Activation)       (None, 60, 18, 512)  0           batch_normalization_3[0][0]      \n",
            "__________________________________________________________________________________________________\n",
            "flatten (Flatten)               (None, 552960)       0           activation_3[0][0]               \n",
            "__________________________________________________________________________________________________\n",
            "dense_1 (Dense)                 (None, 2)            1105922     flatten[0][0]                    \n",
            "__________________________________________________________________________________________________\n",
            "dense_2 (Dense)                 (None, 2)            1105922     flatten[0][0]                    \n",
            "==================================================================================================\n",
            "Total params: 2,352,964\n",
            "Trainable params: 2,351,492\n",
            "Non-trainable params: 1,472\n",
            "__________________________________________________________________________________________________\n"
          ],
          "name": "stdout"
        }
      ]
    },
    {
      "cell_type": "code",
      "metadata": {
        "id": "IWd_wh6bTzr9"
      },
      "source": [
        "decoder_input = layers.Input(K.int_shape(z)[1:])\n",
        "x = layers.Dense(np.prod(shape_before_flattening[1:]),activation='relu')(decoder_input)\n",
        "#Decoder\n",
        "x = layers.Dense(512)(x)\n",
        "x = layers.BatchNormalization()(x)\n",
        "x = layers.Activation('relu')(x)\n",
        "\n",
        "x = layers.RepeatVector(60)(x)\n",
        "\n",
        "x = tf.compat.v1.keras.layers.CuDNNGRU(512, return_sequences=True)(x)\n",
        "x = layers.BatchNormalization()(x)\n",
        "\n",
        "x = tf.compat.v1.keras.layers.CuDNNGRU(512, return_sequences=True)(x)\n",
        "x = layers.BatchNormalization()(x)\n",
        "\n",
        "x = tf.compat.v1.keras.layers.CuDNNGRU(512, return_sequences=True)(x)\n",
        "\n",
        "x = layers.TimeDistributed(layers.Dense(36))(x)\n",
        "x = layers.Activation('softmax')(x)"
      ],
      "execution_count": 26,
      "outputs": []
    },
    {
      "cell_type": "code",
      "metadata": {
        "id": "iPzbwjioWZ0W"
      },
      "source": [
        "decoder = Model(decoder_input, x)\n",
        "z_decoded = decoder(z)"
      ],
      "execution_count": 27,
      "outputs": []
    },
    {
      "cell_type": "code",
      "metadata": {
        "colab": {
          "base_uri": "https://localhost:8080/"
        },
        "id": "igEQ9jVxeprE",
        "outputId": "6b2d3150-b223-49d3-a4a9-9ea5bf5a0000"
      },
      "source": [
        "decoder.summary()"
      ],
      "execution_count": 28,
      "outputs": [
        {
          "output_type": "stream",
          "text": [
            "Model: \"model_1\"\n",
            "_________________________________________________________________\n",
            "Layer (type)                 Output Shape              Param #   \n",
            "=================================================================\n",
            "input_2 (InputLayer)         [(None, 2)]               0         \n",
            "_________________________________________________________________\n",
            "dense_3 (Dense)              (None, 552960)            1658880   \n",
            "_________________________________________________________________\n",
            "dense_4 (Dense)              (None, 512)               283116032 \n",
            "_________________________________________________________________\n",
            "batch_normalization_4 (Batch (None, 512)               2048      \n",
            "_________________________________________________________________\n",
            "activation_4 (Activation)    (None, 512)               0         \n",
            "_________________________________________________________________\n",
            "repeat_vector (RepeatVector) (None, 60, 512)           0         \n",
            "_________________________________________________________________\n",
            "cu_dnngru (CuDNNGRU)         (None, 60, 512)           1575936   \n",
            "_________________________________________________________________\n",
            "batch_normalization_5 (Batch (None, 60, 512)           2048      \n",
            "_________________________________________________________________\n",
            "cu_dnngru_1 (CuDNNGRU)       (None, 60, 512)           1575936   \n",
            "_________________________________________________________________\n",
            "batch_normalization_6 (Batch (None, 60, 512)           2048      \n",
            "_________________________________________________________________\n",
            "cu_dnngru_2 (CuDNNGRU)       (None, 60, 512)           1575936   \n",
            "_________________________________________________________________\n",
            "time_distributed (TimeDistri (None, 60, 36)            18468     \n",
            "_________________________________________________________________\n",
            "activation_5 (Activation)    (None, 60, 36)            0         \n",
            "=================================================================\n",
            "Total params: 289,527,332\n",
            "Trainable params: 289,524,260\n",
            "Non-trainable params: 3,072\n",
            "_________________________________________________________________\n"
          ],
          "name": "stdout"
        }
      ]
    },
    {
      "cell_type": "code",
      "metadata": {
        "id": "W8-s3hMF8qEC"
      },
      "source": [
        "class CustomVariationalLayer(keras.layers.Layer):\n",
        "    def vae_loss(self, x, z_decoded):\n",
        "        x = K.flatten(x)\n",
        "        z_decoded = K.flatten(z_decoded)\n",
        "        xent_loss = keras.metrics.binary_crossentropy(x, z_decoded) #Recin loss\n",
        "        kl_loss = -5e-4 * K.mean(1 + z_log_sigma - K.square(z_mu) - K.exp(z_log_sigma), axis=-1) #KL loss\n",
        "        return K.mean(xent_loss + kl_loss)\n",
        "\n",
        "    def call(self, inputs):\n",
        "        x = inputs[0]\n",
        "        z_decoded = inputs[1]\n",
        "        loss = self.vae_loss(x, z_decoded)\n",
        "        self.add_loss(loss, inputs=inputs)\n",
        "        return x\n",
        "\n",
        "y = CustomVariationalLayer()([input_img, z_decoded])"
      ],
      "execution_count": 29,
      "outputs": []
    },
    {
      "cell_type": "code",
      "metadata": {
        "colab": {
          "base_uri": "https://localhost:8080/"
        },
        "id": "P3Wm2AvY9MGf",
        "outputId": "63641a9e-6f03-4251-f875-3f3a22b3ae07"
      },
      "source": [
        "# VAE model statement\n",
        "vae = Model(input_img, y)\n",
        "vae.compile(optimizer='rmsprop', loss=None)\n",
        "vae.summary()"
      ],
      "execution_count": 30,
      "outputs": [
        {
          "output_type": "stream",
          "text": [
            "WARNING:tensorflow:Output custom_variational_layer missing from loss dictionary. We assume this was done on purpose. The fit and evaluate APIs will not be expecting any data to be passed to custom_variational_layer.\n",
            "Model: \"model_2\"\n",
            "__________________________________________________________________________________________________\n",
            "Layer (type)                    Output Shape         Param #     Connected to                     \n",
            "==================================================================================================\n",
            "input_1 (InputLayer)            [(None, 60, 36, 1)]  0                                            \n",
            "__________________________________________________________________________________________________\n",
            "conv1d (Conv1D)                 (None, 60, 30, 32)   256         input_1[0][0]                    \n",
            "__________________________________________________________________________________________________\n",
            "batch_normalization (BatchNorma (None, 60, 30, 32)   128         conv1d[0][0]                     \n",
            "__________________________________________________________________________________________________\n",
            "activation (Activation)         (None, 60, 30, 32)   0           batch_normalization[0][0]        \n",
            "__________________________________________________________________________________________________\n",
            "conv1d_1 (Conv1D)               (None, 60, 24, 64)   14400       activation[0][0]                 \n",
            "__________________________________________________________________________________________________\n",
            "batch_normalization_1 (BatchNor (None, 60, 24, 64)   256         conv1d_1[0][0]                   \n",
            "__________________________________________________________________________________________________\n",
            "activation_1 (Activation)       (None, 60, 24, 64)   0           batch_normalization_1[0][0]      \n",
            "__________________________________________________________________________________________________\n",
            "conv1d_2 (Conv1D)               (None, 60, 18, 128)  57472       activation_1[0][0]               \n",
            "__________________________________________________________________________________________________\n",
            "batch_normalization_2 (BatchNor (None, 60, 18, 128)  512         conv1d_2[0][0]                   \n",
            "__________________________________________________________________________________________________\n",
            "activation_2 (Activation)       (None, 60, 18, 128)  0           batch_normalization_2[0][0]      \n",
            "__________________________________________________________________________________________________\n",
            "dense (Dense)                   (None, 60, 18, 512)  66048       activation_2[0][0]               \n",
            "__________________________________________________________________________________________________\n",
            "batch_normalization_3 (BatchNor (None, 60, 18, 512)  2048        dense[0][0]                      \n",
            "__________________________________________________________________________________________________\n",
            "activation_3 (Activation)       (None, 60, 18, 512)  0           batch_normalization_3[0][0]      \n",
            "__________________________________________________________________________________________________\n",
            "flatten (Flatten)               (None, 552960)       0           activation_3[0][0]               \n",
            "__________________________________________________________________________________________________\n",
            "dense_1 (Dense)                 (None, 2)            1105922     flatten[0][0]                    \n",
            "__________________________________________________________________________________________________\n",
            "dense_2 (Dense)                 (None, 2)            1105922     flatten[0][0]                    \n",
            "__________________________________________________________________________________________________\n",
            "lambda (Lambda)                 (None, 2)            0           dense_1[0][0]                    \n",
            "                                                                 dense_2[0][0]                    \n",
            "__________________________________________________________________________________________________\n",
            "model_1 (Functional)            (None, 60, 36)       289527332   lambda[0][0]                     \n",
            "__________________________________________________________________________________________________\n",
            "custom_variational_layer (Custo (None, 60, 36, 1)    0           input_1[0][0]                    \n",
            "                                                                 model_1[0][0]                    \n",
            "==================================================================================================\n",
            "Total params: 291,880,296\n",
            "Trainable params: 291,875,752\n",
            "Non-trainable params: 4,544\n",
            "__________________________________________________________________________________________________\n"
          ],
          "name": "stdout"
        }
      ]
    },
    {
      "cell_type": "code",
      "metadata": {
        "colab": {
          "base_uri": "https://localhost:8080/"
        },
        "id": "5veujgFA9UtU",
        "outputId": "cf4619d7-3be3-4c7a-cf66-6aa4afdcb903"
      },
      "source": [
        "callback = tf.keras.callbacks.EarlyStopping(monitor='loss', patience=10)\n",
        "vae.fit(x = x_train_encoded[:20000], y=None,\n",
        "        shuffle=True,\n",
        "        epochs=20,\n",
        "        batch_size=200,callbacks=[callback]\n",
        ")"
      ],
      "execution_count": null,
      "outputs": [
        {
          "output_type": "stream",
          "text": [
            "Train on 20000 samples\n",
            "Epoch 1/20\n",
            "20000/20000 [==============================] - 20s 1ms/sample - loss: nan\n",
            "Epoch 2/20\n",
            " 8800/20000 [============>.................] - ETA: 10s - loss: nan"
          ],
          "name": "stdout"
        }
      ]
    },
    {
      "cell_type": "code",
      "metadata": {
        "id": "Pzs06iOX9qI0"
      },
      "source": [
        "sample_vector = np.array([[0,5]])\n",
        "result = decoder.predict(sample_vector)"
      ],
      "execution_count": 80,
      "outputs": []
    },
    {
      "cell_type": "code",
      "metadata": {
        "colab": {
          "base_uri": "https://localhost:8080/"
        },
        "id": "ywyEdpBgDUhJ",
        "outputId": "a14bc7c4-7904-4ec7-81a9-ecbc06cdcd3e"
      },
      "source": [
        "result.shape"
      ],
      "execution_count": 81,
      "outputs": [
        {
          "output_type": "execute_result",
          "data": {
            "text/plain": [
              "(1, 60, 36)"
            ]
          },
          "metadata": {
            "tags": []
          },
          "execution_count": 81
        }
      ]
    },
    {
      "cell_type": "code",
      "metadata": {
        "id": "yIOIn2hrDf_l"
      },
      "source": [
        "result = result[0].reshape(60, 36)"
      ],
      "execution_count": 83,
      "outputs": []
    },
    {
      "cell_type": "code",
      "metadata": {
        "colab": {
          "base_uri": "https://localhost:8080/"
        },
        "id": "Gc-fneGLDwIH",
        "outputId": "ade5ded5-052a-436e-d59c-5b6ece5a735f"
      },
      "source": [
        "result.shape"
      ],
      "execution_count": 84,
      "outputs": [
        {
          "output_type": "execute_result",
          "data": {
            "text/plain": [
              "(60, 36)"
            ]
          },
          "metadata": {
            "tags": []
          },
          "execution_count": 84
        }
      ]
    },
    {
      "cell_type": "code",
      "metadata": {
        "colab": {
          "base_uri": "https://localhost:8080/",
          "height": 35
        },
        "id": "TfNi41ZYD5Pw",
        "outputId": "cb1da77a-2659-4100-d66a-f5a48345b5db"
      },
      "source": [
        "one_hot_decoder(result)"
      ],
      "execution_count": 87,
      "outputs": [
        {
          "output_type": "execute_result",
          "data": {
            "application/vnd.google.colaboratory.intrinsic+json": {
              "type": "string"
            },
            "text/plain": [
              "'Cccccccccccccccccccccccccccccccccccccccccccccccccccccccccccc'"
            ]
          },
          "metadata": {
            "tags": []
          },
          "execution_count": 87
        }
      ]
    },
    {
      "cell_type": "code",
      "metadata": {
        "id": "knOSElh3D8Dd"
      },
      "source": [
        "# import rdkit\n",
        "# rdkit.Chem.MolDrawing(smiles_decoder(result))"
      ],
      "execution_count": null,
      "outputs": []
    },
    {
      "cell_type": "code",
      "metadata": {
        "colab": {
          "base_uri": "https://localhost:8080/",
          "height": 317
        },
        "id": "tZP4SQjEEYqp",
        "outputId": "8edf759e-4123-4f15-8778-e275a2d4e5c5"
      },
      "source": [
        "from rdkit.Chem import Draw\n",
        "m = Chem.MolFromSmiles(smiles_decoder(result))\n",
        "fig = Draw.MolToMPL(m, size=(200,200))"
      ],
      "execution_count": null,
      "outputs": [
        {
          "output_type": "error",
          "ename": "ValueError",
          "evalue": "ignored",
          "traceback": [
            "\u001b[0;31m---------------------------------------------------------------------------\u001b[0m",
            "\u001b[0;31mValueError\u001b[0m                                Traceback (most recent call last)",
            "\u001b[0;32m<ipython-input-197-30cbf842fa20>\u001b[0m in \u001b[0;36m<module>\u001b[0;34m()\u001b[0m\n\u001b[1;32m      1\u001b[0m \u001b[0;32mfrom\u001b[0m \u001b[0mrdkit\u001b[0m\u001b[0;34m.\u001b[0m\u001b[0mChem\u001b[0m \u001b[0;32mimport\u001b[0m \u001b[0mDraw\u001b[0m\u001b[0;34m\u001b[0m\u001b[0;34m\u001b[0m\u001b[0m\n\u001b[1;32m      2\u001b[0m \u001b[0mm\u001b[0m \u001b[0;34m=\u001b[0m \u001b[0mChem\u001b[0m\u001b[0;34m.\u001b[0m\u001b[0mMolFromSmiles\u001b[0m\u001b[0;34m(\u001b[0m\u001b[0msmiles_decoder\u001b[0m\u001b[0;34m(\u001b[0m\u001b[0mresult\u001b[0m\u001b[0;34m)\u001b[0m\u001b[0;34m)\u001b[0m\u001b[0;34m\u001b[0m\u001b[0;34m\u001b[0m\u001b[0m\n\u001b[0;32m----> 3\u001b[0;31m \u001b[0mfig\u001b[0m \u001b[0;34m=\u001b[0m \u001b[0mDraw\u001b[0m\u001b[0;34m.\u001b[0m\u001b[0mMolToMPL\u001b[0m\u001b[0;34m(\u001b[0m\u001b[0mm\u001b[0m\u001b[0;34m,\u001b[0m \u001b[0msize\u001b[0m\u001b[0;34m=\u001b[0m\u001b[0;34m(\u001b[0m\u001b[0;36m200\u001b[0m\u001b[0;34m,\u001b[0m\u001b[0;36m200\u001b[0m\u001b[0;34m)\u001b[0m\u001b[0;34m)\u001b[0m\u001b[0;34m\u001b[0m\u001b[0;34m\u001b[0m\u001b[0m\n\u001b[0m",
            "\u001b[0;32m/usr/local/lib/python3.6/dist-packages/rdkit/Chem/Draw/__init__.py\u001b[0m in \u001b[0;36mMolToMPL\u001b[0;34m(mol, size, kekulize, wedgeBonds, imageType, fitImage, options, **kwargs)\u001b[0m\n\u001b[1;32m    234\u001b[0m   \"\"\"\n\u001b[1;32m    235\u001b[0m   \u001b[0;32mif\u001b[0m \u001b[0;32mnot\u001b[0m \u001b[0mmol\u001b[0m\u001b[0;34m:\u001b[0m\u001b[0;34m\u001b[0m\u001b[0;34m\u001b[0m\u001b[0m\n\u001b[0;32m--> 236\u001b[0;31m     \u001b[0;32mraise\u001b[0m \u001b[0mValueError\u001b[0m\u001b[0;34m(\u001b[0m\u001b[0;34m'Null molecule provided'\u001b[0m\u001b[0;34m)\u001b[0m\u001b[0;34m\u001b[0m\u001b[0;34m\u001b[0m\u001b[0m\n\u001b[0m\u001b[1;32m    237\u001b[0m   \u001b[0;32mfrom\u001b[0m \u001b[0mrdkit\u001b[0m\u001b[0;34m.\u001b[0m\u001b[0mChem\u001b[0m\u001b[0;34m.\u001b[0m\u001b[0mDraw\u001b[0m\u001b[0;34m.\u001b[0m\u001b[0mmplCanvas\u001b[0m \u001b[0;32mimport\u001b[0m \u001b[0mCanvas\u001b[0m\u001b[0;34m\u001b[0m\u001b[0;34m\u001b[0m\u001b[0m\n\u001b[1;32m    238\u001b[0m   \u001b[0mcanvas\u001b[0m \u001b[0;34m=\u001b[0m \u001b[0mCanvas\u001b[0m\u001b[0;34m(\u001b[0m\u001b[0msize\u001b[0m\u001b[0;34m)\u001b[0m\u001b[0;34m\u001b[0m\u001b[0;34m\u001b[0m\u001b[0m\n",
            "\u001b[0;31mValueError\u001b[0m: Null molecule provided"
          ]
        }
      ]
    },
    {
      "cell_type": "code",
      "metadata": {
        "id": "53zgDxuXE8mL"
      },
      "source": [
        ""
      ],
      "execution_count": null,
      "outputs": []
    }
  ]
}
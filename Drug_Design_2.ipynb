{
  "nbformat": 4,
  "nbformat_minor": 0,
  "metadata": {
    "colab": {
      "name": "Drug_Design (2).ipynb",
      "provenance": [],
      "collapsed_sections": [],
      "machine_shape": "hm"
    },
    "kernelspec": {
      "display_name": "Python 3",
      "name": "python3"
    },
    "accelerator": "GPU"
  },
  "cells": [
    {
      "cell_type": "code",
      "metadata": {
        "id": "0VIfuZ7ttAXw"
      },
      "source": [
        ""
      ],
      "execution_count": null,
      "outputs": []
    },
    {
      "cell_type": "code",
      "metadata": {
        "colab": {
          "base_uri": "https://localhost:8080/"
        },
        "id": "hLH1-XybSXhT",
        "outputId": "66ae5116-9485-4027-bffd-56b16c2f67bd"
      },
      "source": [
        "# version 2018 is quite easy\n",
        "# download & extract\n",
        "url = 'https://anaconda.org/rdkit/rdkit/2018.09.1.0/download/linux-64/rdkit-2018.09.1.0-py36h71b666b_1.tar.bz2'\n",
        "!curl -L $url | tar xj lib\n",
        "# move to python packages directory\n",
        "!mv lib/python3.6/site-packages/rdkit /usr/local/lib/python3.6/dist-packages/\n",
        "x86 = '/usr/lib/x86_64-linux-gnu'\n",
        "!mv lib/*.so.* $x86/\n",
        "# rdkit need libboost_python3.so.1.65.1\n",
        "!ln -s $x86/libboost_python3-py36.so.1.65.1 $x86/libboost_python3.so.1.65.1"
      ],
      "execution_count": 2,
      "outputs": [
        {
          "output_type": "stream",
          "text": [
            "  % Total    % Received % Xferd  Average Speed   Time    Time     Time  Current\n",
            "                                 Dload  Upload   Total   Spent    Left  Speed\n",
            "100  3749    0  3749    0     0  19731      0 --:--:-- --:--:-- --:--:-- 19731\n",
            "100 20.2M  100 20.2M    0     0  5208k      0  0:00:03  0:00:03 --:--:-- 5642k\n",
            "mv: cannot move 'lib/python3.6/site-packages/rdkit' to '/usr/local/lib/python3.6/dist-packages/rdkit': Directory not empty\n",
            "ln: failed to create symbolic link '/usr/lib/x86_64-linux-gnu/libboost_python3.so.1.65.1': File exists\n"
          ],
          "name": "stdout"
        }
      ]
    },
    {
      "cell_type": "code",
      "metadata": {
        "colab": {
          "base_uri": "https://localhost:8080/"
        },
        "id": "dYSLa1JVSbm3",
        "outputId": "7aeec404-85dc-4041-f94a-8bab335a70fc"
      },
      "source": [
        "from google.colab import drive\n",
        "drive.mount(\"/content/drive\")"
      ],
      "execution_count": 3,
      "outputs": [
        {
          "output_type": "stream",
          "text": [
            "Mounted at /content/drive\n"
          ],
          "name": "stdout"
        }
      ]
    },
    {
      "cell_type": "code",
      "metadata": {
        "colab": {
          "base_uri": "https://localhost:8080/"
        },
        "id": "ElQMVgbITGuz",
        "outputId": "77921651-2af6-4fc5-bc93-2ee1dfe5934f"
      },
      "source": [
        "ls"
      ],
      "execution_count": 4,
      "outputs": [
        {
          "output_type": "stream",
          "text": [
            "\u001b[0m\u001b[01;34mdrive\u001b[0m/  \u001b[01;34mlib\u001b[0m/  \u001b[01;34msample_data\u001b[0m/\n"
          ],
          "name": "stdout"
        }
      ]
    },
    {
      "cell_type": "code",
      "metadata": {
        "colab": {
          "base_uri": "https://localhost:8080/"
        },
        "id": "JiLFyDr6TONV",
        "outputId": "565617b5-9d00-4d68-f97f-ad55f551b144"
      },
      "source": [
        "%cd drive/MyDrive/"
      ],
      "execution_count": 5,
      "outputs": [
        {
          "output_type": "stream",
          "text": [
            "/content/drive/MyDrive\n"
          ],
          "name": "stdout"
        }
      ]
    },
    {
      "cell_type": "code",
      "metadata": {
        "colab": {
          "base_uri": "https://localhost:8080/"
        },
        "id": "tu8YQhNWeGSI",
        "outputId": "c4559b81-c379-4f42-ab02-e11a33fb4bc0"
      },
      "source": [
        "cd drug_discovery/"
      ],
      "execution_count": null,
      "outputs": [
        {
          "output_type": "stream",
          "text": [
            "/content/drive/.shortcut-targets-by-id/19b_O5F-YXehQUaR7OjSc5qFpWmOOs-7k/drug_discovery\n"
          ],
          "name": "stdout"
        }
      ]
    },
    {
      "cell_type": "code",
      "metadata": {
        "colab": {
          "base_uri": "https://localhost:8080/"
        },
        "id": "1eeUyn2TeHGs",
        "outputId": "381e18f6-172b-4183-d2e5-8f542a36096c"
      },
      "source": [
        "ls"
      ],
      "execution_count": null,
      "outputs": [
        {
          "output_type": "stream",
          "text": [
            "AA.csv  drug_discovery1.ipynb\n"
          ],
          "name": "stdout"
        }
      ]
    },
    {
      "cell_type": "code",
      "metadata": {
        "colab": {
          "base_uri": "https://localhost:8080/",
          "height": 419
        },
        "id": "8vWO7UdLeq-w",
        "outputId": "7a9658d7-c3d9-4026-c7c6-f418a070f597"
      },
      "source": [
        "import pandas as pd\n",
        "data = pd.read_csv('/content/drive/My Drive/drug_discovery/AA.csv')\n",
        "data"
      ],
      "execution_count": 173,
      "outputs": [
        {
          "output_type": "execute_result",
          "data": {
            "text/html": [
              "<div>\n",
              "<style scoped>\n",
              "    .dataframe tbody tr th:only-of-type {\n",
              "        vertical-align: middle;\n",
              "    }\n",
              "\n",
              "    .dataframe tbody tr th {\n",
              "        vertical-align: top;\n",
              "    }\n",
              "\n",
              "    .dataframe thead th {\n",
              "        text-align: right;\n",
              "    }\n",
              "</style>\n",
              "<table border=\"1\" class=\"dataframe\">\n",
              "  <thead>\n",
              "    <tr style=\"text-align: right;\">\n",
              "      <th></th>\n",
              "      <th>zinc_id</th>\n",
              "      <th>smiles</th>\n",
              "    </tr>\n",
              "  </thead>\n",
              "  <tbody>\n",
              "    <tr>\n",
              "      <th>0</th>\n",
              "      <td>ZINC000000008151</td>\n",
              "      <td>C[C@H]1[C@@H](O)[C@H](CO)O[C@@H](O)[C@@H]1N</td>\n",
              "    </tr>\n",
              "    <tr>\n",
              "      <th>1</th>\n",
              "      <td>ZINC000000008153</td>\n",
              "      <td>CC[C@@H]1[C@@H](N)[C@@H](O)O[C@@H](CO)[C@@H]1O</td>\n",
              "    </tr>\n",
              "    <tr>\n",
              "      <th>2</th>\n",
              "      <td>ZINC000000008155</td>\n",
              "      <td>CC1(C)[C@@H](N)[C@@H](O)O[C@@H](CO)[C@@H]1O</td>\n",
              "    </tr>\n",
              "    <tr>\n",
              "      <th>3</th>\n",
              "      <td>ZINC000000018276</td>\n",
              "      <td>CS[C@@H]1CN[C@@H](CO)[C@H](O)[C@H]1O</td>\n",
              "    </tr>\n",
              "    <tr>\n",
              "      <th>4</th>\n",
              "      <td>ZINC000000018279</td>\n",
              "      <td>CS[C@@H]1[C@@H](O)CN[C@@H](CO)[C@@H]1O</td>\n",
              "    </tr>\n",
              "    <tr>\n",
              "      <th>...</th>\n",
              "      <td>...</td>\n",
              "      <td>...</td>\n",
              "    </tr>\n",
              "    <tr>\n",
              "      <th>427851</th>\n",
              "      <td>ZINC000242463989</td>\n",
              "      <td>O[Cl+3](O)(O)O</td>\n",
              "    </tr>\n",
              "    <tr>\n",
              "      <th>427852</th>\n",
              "      <td>ZINC000247713634</td>\n",
              "      <td>O1[SiH2][SiH2]O[SiH2][SiH2]1</td>\n",
              "    </tr>\n",
              "    <tr>\n",
              "      <th>427853</th>\n",
              "      <td>ZINC000252581626</td>\n",
              "      <td>O[Si](O)(O)F</td>\n",
              "    </tr>\n",
              "    <tr>\n",
              "      <th>427854</th>\n",
              "      <td>ZINC000685945533</td>\n",
              "      <td>Cn1nnnc1S(=O)(=O)F</td>\n",
              "    </tr>\n",
              "    <tr>\n",
              "      <th>427855</th>\n",
              "      <td>ZINC000725262634</td>\n",
              "      <td>Cn1nnc(S(=O)(=O)F)n1</td>\n",
              "    </tr>\n",
              "  </tbody>\n",
              "</table>\n",
              "<p>427856 rows × 2 columns</p>\n",
              "</div>"
            ],
            "text/plain": [
              "                 zinc_id                                          smiles\n",
              "0       ZINC000000008151     C[C@H]1[C@@H](O)[C@H](CO)O[C@@H](O)[C@@H]1N\n",
              "1       ZINC000000008153  CC[C@@H]1[C@@H](N)[C@@H](O)O[C@@H](CO)[C@@H]1O\n",
              "2       ZINC000000008155     CC1(C)[C@@H](N)[C@@H](O)O[C@@H](CO)[C@@H]1O\n",
              "3       ZINC000000018276            CS[C@@H]1CN[C@@H](CO)[C@H](O)[C@H]1O\n",
              "4       ZINC000000018279          CS[C@@H]1[C@@H](O)CN[C@@H](CO)[C@@H]1O\n",
              "...                  ...                                             ...\n",
              "427851  ZINC000242463989                                  O[Cl+3](O)(O)O\n",
              "427852  ZINC000247713634                    O1[SiH2][SiH2]O[SiH2][SiH2]1\n",
              "427853  ZINC000252581626                                    O[Si](O)(O)F\n",
              "427854  ZINC000685945533                              Cn1nnnc1S(=O)(=O)F\n",
              "427855  ZINC000725262634                            Cn1nnc(S(=O)(=O)F)n1\n",
              "\n",
              "[427856 rows x 2 columns]"
            ]
          },
          "metadata": {
            "tags": []
          },
          "execution_count": 173
        }
      ]
    },
    {
      "cell_type": "code",
      "metadata": {
        "colab": {
          "base_uri": "https://localhost:8080/"
        },
        "id": "ox-GDOPdtBW8",
        "outputId": "2d815c3f-918d-4111-9bfb-9e97dda77659"
      },
      "source": [
        "data['smiles'].apply(len).max()"
      ],
      "execution_count": 174,
      "outputs": [
        {
          "output_type": "execute_result",
          "data": {
            "text/plain": [
              "62"
            ]
          },
          "metadata": {
            "tags": []
          },
          "execution_count": 174
        }
      ]
    },
    {
      "cell_type": "code",
      "metadata": {
        "colab": {
          "base_uri": "https://localhost:8080/"
        },
        "id": "JuGqxIMmtIXX",
        "outputId": "b8db1c45-7b78-4924-a091-b0a94f7ba7bf"
      },
      "source": [
        "data['smiles'].apply(len).min()"
      ],
      "execution_count": 175,
      "outputs": [
        {
          "output_type": "execute_result",
          "data": {
            "text/plain": [
              "4"
            ]
          },
          "metadata": {
            "tags": []
          },
          "execution_count": 175
        }
      ]
    },
    {
      "cell_type": "code",
      "metadata": {
        "id": "0OQ47lQFfDjU"
      },
      "source": [
        "from rdkit import Chem"
      ],
      "execution_count": 176,
      "outputs": []
    },
    {
      "cell_type": "code",
      "metadata": {
        "id": "6x-TbY7lfM-1"
      },
      "source": [
        "SMILES_CHARS = [' ',\n",
        "                  '#', '%', '(', ')', '+', '-', '.', '/',\n",
        "                  '0', '1', '2', '3', '4', '5', '6', '7', '8', '9',\n",
        "                  '=', '@',\n",
        "                  'A', 'B', 'C', 'F', 'H', 'I', 'K', 'L', 'M', 'N', 'O', 'P',\n",
        "                  'R', 'S', 'T', 'V', 'X', 'Z',\n",
        "                  '[', '\\\\', ']',\n",
        "                  'a', 'b', 'c', 'e', 'g', 'i', 'l', 'n', 'o', 'p', 'r', 's',\n",
        "                  't', 'u']\n",
        "smi2index = dict( (c,i) for i,c in enumerate( SMILES_CHARS ) )\n",
        "index2smi = dict( (i,c) for i,c in enumerate( SMILES_CHARS ) )\n",
        "def smiles_encoder( smiles, maxlen=62 ):\n",
        "    smiles = Chem.MolToSmiles(Chem.MolFromSmiles( smiles ))\n",
        "    X = np.zeros( ( maxlen, len( SMILES_CHARS ) ) )\n",
        "    for i, c in enumerate( smiles ):\n",
        "        X[i, smi2index[c]] = 1\n",
        "    return X\n",
        "def smiles_decoder( X ):\n",
        "    smi = ''\n",
        "    X = X.argmax( axis=-1 )\n",
        "    for i in X:\n",
        "        smi += index2smi[i]\n",
        "    return smi"
      ],
      "execution_count": 177,
      "outputs": []
    },
    {
      "cell_type": "code",
      "metadata": {
        "id": "ju2aBw-Gff9G"
      },
      "source": [
        "import numpy as np\n",
        "x = []\n",
        "for i in data['smiles'][:500]:\n",
        "    #print(smiles_encoder(i))\n",
        "    x.append(smiles_encoder(i))\n",
        "arr = np.array(x)"
      ],
      "execution_count": 178,
      "outputs": []
    },
    {
      "cell_type": "code",
      "metadata": {
        "colab": {
          "base_uri": "https://localhost:8080/"
        },
        "id": "EyGDicCqKHCy",
        "outputId": "764bcd31-f006-494d-a29e-82e76cef9e05"
      },
      "source": [
        "arr.shape"
      ],
      "execution_count": 179,
      "outputs": [
        {
          "output_type": "execute_result",
          "data": {
            "text/plain": [
              "(500, 62, 56)"
            ]
          },
          "metadata": {
            "tags": []
          },
          "execution_count": 179
        }
      ]
    },
    {
      "cell_type": "code",
      "metadata": {
        "colab": {
          "base_uri": "https://localhost:8080/"
        },
        "id": "cxJ8aH-BQavn",
        "outputId": "25c4ad5d-67a1-4c9c-83b9-73f91105a1b4"
      },
      "source": [
        "arr[0].shape"
      ],
      "execution_count": 180,
      "outputs": [
        {
          "output_type": "execute_result",
          "data": {
            "text/plain": [
              "(62, 56)"
            ]
          },
          "metadata": {
            "tags": []
          },
          "execution_count": 180
        }
      ]
    },
    {
      "cell_type": "code",
      "metadata": {
        "id": "2Qx1k17Kfk_t"
      },
      "source": [
        "arr = arr.reshape(-1,62,56,1)"
      ],
      "execution_count": 181,
      "outputs": []
    },
    {
      "cell_type": "code",
      "metadata": {
        "colab": {
          "base_uri": "https://localhost:8080/"
        },
        "id": "eHHQTQj2-cx_",
        "outputId": "dae03906-4696-42e9-c24c-5edbe3d63cd7"
      },
      "source": [
        "arr.shape"
      ],
      "execution_count": 182,
      "outputs": [
        {
          "output_type": "execute_result",
          "data": {
            "text/plain": [
              "(500, 62, 56, 1)"
            ]
          },
          "metadata": {
            "tags": []
          },
          "execution_count": 182
        }
      ]
    },
    {
      "cell_type": "code",
      "metadata": {
        "id": "LFI3hiWViOiX"
      },
      "source": [
        "# #Hyperparameters\n",
        "\n",
        "# #Number of epochs for training\n",
        "# NUM_EPOCHS = 35\n",
        "\n",
        "# #Hidden channel dimension\n",
        "# hidden_channels = 32\n",
        "\n",
        "# #Latent space dimension\n",
        "# latent_dim = 196\n",
        "\n",
        "# #Convolutional layer kernel size\n",
        "# kernel_size = 3\n",
        "\n",
        "# #Stride is the number of pixels shifts over the input matrix  \n",
        "# stride = 1\n",
        "\n",
        "# #Padding size to add around the matrix.\n",
        "# padding = 1"
      ],
      "execution_count": 183,
      "outputs": []
    },
    {
      "cell_type": "code",
      "metadata": {
        "id": "Bz8Mje5L0UI7"
      },
      "source": [
        "import pandas as pd\n",
        "import numpy as np\n",
        "import matplotlib\n",
        "import matplotlib.pyplot as plt \n",
        "import matplotlib.patches as mpatches \n",
        "%matplotlib inline\n",
        "from scipy.stats import norm \n",
        "import keras\n",
        "from keras import layers\n",
        "from keras.models import Model \n",
        "from keras import metrics\n",
        "from keras import backend as K \n",
        "K.clear_session()\n",
        "np.random.seed(237)\n",
        "import scipy.stats as st\n",
        "import tensorflow.compat.v1.keras.backend as K \n",
        "import tensorflow as tf \n",
        "tf.compat.v1.disable_eager_execution()\n",
        "from tensorflow.keras.optimizers import Adam \n",
        "import warnings \n",
        "warnings.filterwarnings(\"ignore\")\n",
        "import matplotlib.pyplot as plt\n",
        "from mpl_toolkits.mplot3d import Axes3D \n",
        "import numpy as np\n",
        "from scipy.stats import multivariate_normal"
      ],
      "execution_count": 184,
      "outputs": []
    },
    {
      "cell_type": "code",
      "metadata": {
        "id": "r5FoBrgeF5ZU"
      },
      "source": [
        "img_shape = (62, 56,1)\n",
        "batch_size = 16\n",
        "latent_dim = 2\n",
        "input_img = keras.Input(shape=img_shape)\n",
        "x = layers.Conv1D(32, 7,\n",
        "                  padding='same',\n",
        "                  activation='relu',\n",
        "                  )(input_img)\n",
        "x = layers.Conv2D(128, 3,\n",
        "                  padding='same',\n",
        "                  activation='relu',\n",
        "                  strides=(2, 2))(x)\n",
        "x = layers.Conv2D(128, 3,\n",
        "                  padding='same',\n",
        "                  activation='relu')(x)\n",
        "x = layers.Conv2D(128, 3,\n",
        "                  padding='same',\n",
        "                  activation='relu')(x)\n",
        "shape_before_flattening = K.int_shape(x)\n",
        "x = layers.Flatten()(x)\n",
        "x = layers.Dense(32, activation='relu')(x)\n",
        "z_mu = layers.Dense(latent_dim)(x)\n",
        "z_log_sigma = layers.Dense(latent_dim)(x)"
      ],
      "execution_count": 185,
      "outputs": []
    },
    {
      "cell_type": "code",
      "metadata": {
        "id": "ibWwwiPZv6Dy"
      },
      "source": [
        "def sampling(args):\n",
        "  z_mu, z_log_sigma = args\n",
        "  epsilon = K.random_normal(shape=(K.shape(z_mu)[0], latent_dim),\n",
        "  mean=0., stddev=1.)\n",
        "  return z_mu + K.exp(z_log_sigma) * epsilon\n",
        "z = layers.Lambda(sampling)([z_mu, z_log_sigma])"
      ],
      "execution_count": 186,
      "outputs": []
    },
    {
      "cell_type": "code",
      "metadata": {
        "id": "x2pDm2Xfv6X-"
      },
      "source": [
        "decoder_input = layers.Input(K.int_shape(z)[1:])\n",
        "x = layers.Dense(np.prod(shape_before_flattening[1:]),\n",
        "                 activation='relu')(decoder_input)\n",
        "x = layers.Reshape(shape_before_flattening[1:])(x)\n",
        "x = layers.Conv2DTranspose(32, 3,\n",
        "                           padding='same',\n",
        "                           activation='relu',\n",
        "                           strides=(2, 2))(x)\n",
        "x = layers.Conv2D(1, 3,\n",
        "                  padding='same',\n",
        "                  activation='sigmoid')(x)\n",
        "decoder = Model(decoder_input, x)\n",
        "z_decoded = decoder(z)"
      ],
      "execution_count": 187,
      "outputs": []
    },
    {
      "cell_type": "code",
      "metadata": {
        "id": "W8-s3hMF8qEC"
      },
      "source": [
        "class CustomVariationalLayer(keras.layers.Layer):\n",
        "    def vae_loss(self, x, z_decoded):\n",
        "        x = K.flatten(x)\n",
        "        z_decoded = K.flatten(z_decoded)\n",
        "        xent_loss = keras.metrics.binary_crossentropy(x, z_decoded) #Recin loss\n",
        "        kl_loss = -5e-4 * K.mean(1 + z_log_sigma - K.square(z_mu) - K.exp(z_log_sigma), axis=-1) #KL loss\n",
        "        return K.mean(xent_loss + kl_loss)\n",
        "\n",
        "    def call(self, inputs):\n",
        "        x = inputs[0]\n",
        "        z_decoded = inputs[1]\n",
        "        loss = self.vae_loss(x, z_decoded)\n",
        "        self.add_loss(loss, inputs=inputs)\n",
        "        return x\n",
        "\n",
        "y = CustomVariationalLayer()([input_img, z_decoded])"
      ],
      "execution_count": 188,
      "outputs": []
    },
    {
      "cell_type": "code",
      "metadata": {
        "colab": {
          "base_uri": "https://localhost:8080/"
        },
        "id": "P3Wm2AvY9MGf",
        "outputId": "acfa943b-2608-4be9-ef8a-a3fbaeee87dd"
      },
      "source": [
        "# VAE model statement\n",
        "vae = Model(input_img, y)\n",
        "vae.compile(optimizer='rmsprop', loss=None)\n",
        "vae.summary()"
      ],
      "execution_count": 189,
      "outputs": [
        {
          "output_type": "stream",
          "text": [
            "WARNING:tensorflow:Output custom_variational_layer missing from loss dictionary. We assume this was done on purpose. The fit and evaluate APIs will not be expecting any data to be passed to custom_variational_layer.\n",
            "Model: \"model_1\"\n",
            "__________________________________________________________________________________________________\n",
            "Layer (type)                    Output Shape         Param #     Connected to                     \n",
            "==================================================================================================\n",
            "input_1 (InputLayer)            [(None, 62, 56, 1)]  0                                            \n",
            "__________________________________________________________________________________________________\n",
            "conv1d (Conv1D)                 (None, 62, 56, 32)   256         input_1[0][0]                    \n",
            "__________________________________________________________________________________________________\n",
            "conv2d (Conv2D)                 (None, 31, 28, 128)  36992       conv1d[0][0]                     \n",
            "__________________________________________________________________________________________________\n",
            "conv2d_1 (Conv2D)               (None, 31, 28, 128)  147584      conv2d[0][0]                     \n",
            "__________________________________________________________________________________________________\n",
            "conv2d_2 (Conv2D)               (None, 31, 28, 128)  147584      conv2d_1[0][0]                   \n",
            "__________________________________________________________________________________________________\n",
            "flatten (Flatten)               (None, 111104)       0           conv2d_2[0][0]                   \n",
            "__________________________________________________________________________________________________\n",
            "dense (Dense)                   (None, 32)           3555360     flatten[0][0]                    \n",
            "__________________________________________________________________________________________________\n",
            "dense_1 (Dense)                 (None, 2)            66          dense[0][0]                      \n",
            "__________________________________________________________________________________________________\n",
            "dense_2 (Dense)                 (None, 2)            66          dense[0][0]                      \n",
            "__________________________________________________________________________________________________\n",
            "lambda (Lambda)                 (None, 2)            0           dense_1[0][0]                    \n",
            "                                                                 dense_2[0][0]                    \n",
            "__________________________________________________________________________________________________\n",
            "model (Functional)              (None, 62, 56, 1)    370497      lambda[0][0]                     \n",
            "__________________________________________________________________________________________________\n",
            "custom_variational_layer (Custo (None, 62, 56, 1)    0           input_1[0][0]                    \n",
            "                                                                 model[0][0]                      \n",
            "==================================================================================================\n",
            "Total params: 4,258,405\n",
            "Trainable params: 4,258,405\n",
            "Non-trainable params: 0\n",
            "__________________________________________________________________________________________________\n"
          ],
          "name": "stdout"
        }
      ]
    },
    {
      "cell_type": "code",
      "metadata": {
        "colab": {
          "base_uri": "https://localhost:8080/"
        },
        "id": "5veujgFA9UtU",
        "outputId": "5c17497b-3a07-4749-bb59-e2c0464c5069"
      },
      "source": [
        "vae.fit(x=arr, y=None,\n",
        "        shuffle=False,\n",
        "        epochs=120,\n",
        "        batch_size=batch_size,\n",
        "        )"
      ],
      "execution_count": 190,
      "outputs": [
        {
          "output_type": "stream",
          "text": [
            "Train on 500 samples\n",
            "Epoch 1/120\n",
            "500/500 [==============================] - 1s 1ms/sample - loss: 0.2486\n",
            "Epoch 2/120\n",
            "500/500 [==============================] - 0s 422us/sample - loss: 0.0448\n",
            "Epoch 3/120\n",
            "500/500 [==============================] - 0s 413us/sample - loss: 0.0388\n",
            "Epoch 4/120\n",
            "500/500 [==============================] - 0s 414us/sample - loss: 0.0363\n",
            "Epoch 5/120\n",
            "500/500 [==============================] - 0s 412us/sample - loss: 0.0351\n",
            "Epoch 6/120\n",
            "500/500 [==============================] - 0s 417us/sample - loss: 0.0347\n",
            "Epoch 7/120\n",
            "500/500 [==============================] - 0s 414us/sample - loss: 0.0343\n",
            "Epoch 8/120\n",
            "500/500 [==============================] - 0s 407us/sample - loss: 0.0339\n",
            "Epoch 9/120\n",
            "500/500 [==============================] - 0s 416us/sample - loss: 0.0338\n",
            "Epoch 10/120\n",
            "500/500 [==============================] - 0s 418us/sample - loss: 0.0337\n",
            "Epoch 11/120\n",
            "500/500 [==============================] - 0s 422us/sample - loss: 0.0337\n",
            "Epoch 12/120\n",
            "500/500 [==============================] - 0s 419us/sample - loss: 0.0335\n",
            "Epoch 13/120\n",
            "500/500 [==============================] - 0s 420us/sample - loss: 0.0334\n",
            "Epoch 14/120\n",
            "500/500 [==============================] - 0s 413us/sample - loss: 0.0328\n",
            "Epoch 15/120\n",
            "500/500 [==============================] - 0s 414us/sample - loss: 0.0324\n",
            "Epoch 16/120\n",
            "500/500 [==============================] - 0s 414us/sample - loss: 0.0319\n",
            "Epoch 17/120\n",
            "500/500 [==============================] - 0s 410us/sample - loss: 0.0317\n",
            "Epoch 18/120\n",
            "500/500 [==============================] - 0s 418us/sample - loss: 0.0314\n",
            "Epoch 19/120\n",
            "500/500 [==============================] - 0s 411us/sample - loss: 0.0314\n",
            "Epoch 20/120\n",
            "500/500 [==============================] - 0s 432us/sample - loss: 0.0312\n",
            "Epoch 21/120\n",
            "500/500 [==============================] - 0s 411us/sample - loss: 0.0311\n",
            "Epoch 22/120\n",
            "500/500 [==============================] - 0s 410us/sample - loss: 0.0310\n",
            "Epoch 23/120\n",
            "500/500 [==============================] - 0s 406us/sample - loss: 0.0308\n",
            "Epoch 24/120\n",
            "500/500 [==============================] - 0s 412us/sample - loss: 0.0308\n",
            "Epoch 25/120\n",
            "500/500 [==============================] - 0s 415us/sample - loss: 0.0308\n",
            "Epoch 26/120\n",
            "500/500 [==============================] - 0s 418us/sample - loss: 0.0308\n",
            "Epoch 27/120\n",
            "500/500 [==============================] - 0s 420us/sample - loss: 0.0306\n",
            "Epoch 28/120\n",
            "500/500 [==============================] - 0s 416us/sample - loss: 0.0304\n",
            "Epoch 29/120\n",
            "500/500 [==============================] - 0s 416us/sample - loss: 0.0303\n",
            "Epoch 30/120\n",
            "500/500 [==============================] - 0s 421us/sample - loss: 0.0304\n",
            "Epoch 31/120\n",
            "500/500 [==============================] - 0s 419us/sample - loss: 0.0302\n",
            "Epoch 32/120\n",
            "500/500 [==============================] - 0s 415us/sample - loss: 0.0302\n",
            "Epoch 33/120\n",
            "500/500 [==============================] - 0s 409us/sample - loss: 0.0302\n",
            "Epoch 34/120\n",
            "500/500 [==============================] - 0s 414us/sample - loss: 0.0301\n",
            "Epoch 35/120\n",
            "500/500 [==============================] - 0s 417us/sample - loss: 0.0301\n",
            "Epoch 36/120\n",
            "500/500 [==============================] - 0s 418us/sample - loss: 0.0300\n",
            "Epoch 37/120\n",
            "500/500 [==============================] - 0s 413us/sample - loss: 0.0299\n",
            "Epoch 38/120\n",
            "500/500 [==============================] - 0s 410us/sample - loss: 0.0298\n",
            "Epoch 39/120\n",
            "500/500 [==============================] - 0s 414us/sample - loss: 0.0297\n",
            "Epoch 40/120\n",
            "500/500 [==============================] - 0s 414us/sample - loss: 0.0298\n",
            "Epoch 41/120\n",
            "500/500 [==============================] - 0s 411us/sample - loss: 0.0297\n",
            "Epoch 42/120\n",
            "500/500 [==============================] - 0s 412us/sample - loss: 0.0297\n",
            "Epoch 43/120\n",
            "500/500 [==============================] - 0s 420us/sample - loss: 0.0297\n",
            "Epoch 44/120\n",
            "500/500 [==============================] - 0s 425us/sample - loss: 0.0296\n",
            "Epoch 45/120\n",
            "500/500 [==============================] - 0s 410us/sample - loss: 0.0295\n",
            "Epoch 46/120\n",
            "500/500 [==============================] - 0s 416us/sample - loss: 0.0295\n",
            "Epoch 47/120\n",
            "500/500 [==============================] - 0s 411us/sample - loss: 0.0296\n",
            "Epoch 48/120\n",
            "500/500 [==============================] - 0s 413us/sample - loss: 0.0294\n",
            "Epoch 49/120\n",
            "500/500 [==============================] - 0s 418us/sample - loss: 0.0294\n",
            "Epoch 50/120\n",
            "500/500 [==============================] - 0s 412us/sample - loss: 0.0294\n",
            "Epoch 51/120\n",
            "500/500 [==============================] - 0s 410us/sample - loss: 0.0294\n",
            "Epoch 52/120\n",
            "500/500 [==============================] - 0s 418us/sample - loss: 0.0294\n",
            "Epoch 53/120\n",
            "500/500 [==============================] - 0s 414us/sample - loss: 0.0293\n",
            "Epoch 54/120\n",
            "500/500 [==============================] - 0s 408us/sample - loss: 0.0292\n",
            "Epoch 55/120\n",
            "500/500 [==============================] - 0s 411us/sample - loss: 0.0293\n",
            "Epoch 56/120\n",
            "500/500 [==============================] - 0s 414us/sample - loss: 0.0293\n",
            "Epoch 57/120\n",
            "500/500 [==============================] - 0s 414us/sample - loss: 0.0293\n",
            "Epoch 58/120\n",
            "500/500 [==============================] - 0s 421us/sample - loss: 0.0291\n",
            "Epoch 59/120\n",
            "500/500 [==============================] - 0s 426us/sample - loss: 0.0292\n",
            "Epoch 60/120\n",
            "500/500 [==============================] - 0s 419us/sample - loss: 0.0291\n",
            "Epoch 61/120\n",
            "500/500 [==============================] - 0s 407us/sample - loss: 0.0290\n",
            "Epoch 62/120\n",
            "500/500 [==============================] - 0s 415us/sample - loss: 0.0290\n",
            "Epoch 63/120\n",
            "500/500 [==============================] - 0s 417us/sample - loss: 0.0290\n",
            "Epoch 64/120\n",
            "500/500 [==============================] - 0s 412us/sample - loss: 0.0290\n",
            "Epoch 65/120\n",
            "500/500 [==============================] - 0s 413us/sample - loss: 0.0290\n",
            "Epoch 66/120\n",
            "500/500 [==============================] - 0s 411us/sample - loss: 0.0288\n",
            "Epoch 67/120\n",
            "500/500 [==============================] - 0s 417us/sample - loss: 0.0289\n",
            "Epoch 68/120\n",
            "500/500 [==============================] - 0s 418us/sample - loss: 0.0289\n",
            "Epoch 69/120\n",
            "500/500 [==============================] - 0s 416us/sample - loss: 0.0289\n",
            "Epoch 70/120\n",
            "500/500 [==============================] - 0s 412us/sample - loss: 0.0289\n",
            "Epoch 71/120\n",
            "500/500 [==============================] - 0s 412us/sample - loss: 0.0287\n",
            "Epoch 72/120\n",
            "500/500 [==============================] - 0s 417us/sample - loss: 0.0288\n",
            "Epoch 73/120\n",
            "500/500 [==============================] - 0s 413us/sample - loss: 0.0288\n",
            "Epoch 74/120\n",
            "500/500 [==============================] - 0s 421us/sample - loss: 0.0287\n",
            "Epoch 75/120\n",
            "500/500 [==============================] - 0s 410us/sample - loss: 0.0288\n",
            "Epoch 76/120\n",
            "500/500 [==============================] - 0s 417us/sample - loss: 0.0286\n",
            "Epoch 77/120\n",
            "500/500 [==============================] - 0s 414us/sample - loss: 0.0287\n",
            "Epoch 78/120\n",
            "500/500 [==============================] - 0s 418us/sample - loss: 0.0288\n",
            "Epoch 79/120\n",
            "500/500 [==============================] - 0s 414us/sample - loss: 0.0286\n",
            "Epoch 80/120\n",
            "500/500 [==============================] - 0s 415us/sample - loss: 0.0286\n",
            "Epoch 81/120\n",
            "500/500 [==============================] - 0s 416us/sample - loss: 0.0285\n",
            "Epoch 82/120\n",
            "500/500 [==============================] - 0s 413us/sample - loss: 0.0286\n",
            "Epoch 83/120\n",
            "500/500 [==============================] - 0s 422us/sample - loss: 0.0286\n",
            "Epoch 84/120\n",
            "500/500 [==============================] - 0s 416us/sample - loss: 0.0285\n",
            "Epoch 85/120\n",
            "500/500 [==============================] - 0s 415us/sample - loss: 0.0285\n",
            "Epoch 86/120\n",
            "500/500 [==============================] - 0s 409us/sample - loss: 0.0285\n",
            "Epoch 87/120\n",
            "500/500 [==============================] - 0s 415us/sample - loss: 0.0285\n",
            "Epoch 88/120\n",
            "500/500 [==============================] - 0s 414us/sample - loss: 0.0284\n",
            "Epoch 89/120\n",
            "500/500 [==============================] - 0s 418us/sample - loss: 0.0284\n",
            "Epoch 90/120\n",
            "500/500 [==============================] - 0s 414us/sample - loss: 0.0284\n",
            "Epoch 91/120\n",
            "500/500 [==============================] - 0s 417us/sample - loss: 0.0283\n",
            "Epoch 92/120\n",
            "500/500 [==============================] - 0s 416us/sample - loss: 0.0284\n",
            "Epoch 93/120\n",
            "500/500 [==============================] - 0s 423us/sample - loss: 0.0283\n",
            "Epoch 94/120\n",
            "500/500 [==============================] - 0s 410us/sample - loss: 0.0284\n",
            "Epoch 95/120\n",
            "500/500 [==============================] - 0s 412us/sample - loss: 0.0282\n",
            "Epoch 96/120\n",
            "500/500 [==============================] - 0s 424us/sample - loss: 0.0284\n",
            "Epoch 97/120\n",
            "500/500 [==============================] - 0s 416us/sample - loss: 0.0282\n",
            "Epoch 98/120\n",
            "500/500 [==============================] - 0s 416us/sample - loss: 0.0284\n",
            "Epoch 99/120\n",
            "500/500 [==============================] - 0s 418us/sample - loss: 0.0282\n",
            "Epoch 100/120\n",
            "500/500 [==============================] - 0s 409us/sample - loss: 0.0282\n",
            "Epoch 101/120\n",
            "500/500 [==============================] - 0s 418us/sample - loss: 0.0283\n",
            "Epoch 102/120\n",
            "500/500 [==============================] - 0s 414us/sample - loss: 0.0282\n",
            "Epoch 103/120\n",
            "500/500 [==============================] - 0s 418us/sample - loss: 0.0281\n",
            "Epoch 104/120\n",
            "500/500 [==============================] - 0s 409us/sample - loss: 0.0281\n",
            "Epoch 105/120\n",
            "500/500 [==============================] - 0s 413us/sample - loss: 0.0281\n",
            "Epoch 106/120\n",
            "500/500 [==============================] - 0s 414us/sample - loss: 0.0281\n",
            "Epoch 107/120\n",
            "500/500 [==============================] - 0s 419us/sample - loss: 0.0281\n",
            "Epoch 108/120\n",
            "500/500 [==============================] - 0s 416us/sample - loss: 0.0280\n",
            "Epoch 109/120\n",
            "500/500 [==============================] - 0s 418us/sample - loss: 0.0281\n",
            "Epoch 110/120\n",
            "500/500 [==============================] - 0s 416us/sample - loss: 0.0280\n",
            "Epoch 111/120\n",
            "500/500 [==============================] - 0s 419us/sample - loss: 0.0280\n",
            "Epoch 112/120\n",
            "500/500 [==============================] - 0s 411us/sample - loss: 0.0280\n",
            "Epoch 113/120\n",
            "500/500 [==============================] - 0s 413us/sample - loss: 0.0279\n",
            "Epoch 114/120\n",
            "500/500 [==============================] - 0s 412us/sample - loss: 0.0280\n",
            "Epoch 115/120\n",
            "500/500 [==============================] - 0s 413us/sample - loss: 0.0280\n",
            "Epoch 116/120\n",
            "500/500 [==============================] - 0s 418us/sample - loss: 0.0279\n",
            "Epoch 117/120\n",
            "500/500 [==============================] - 0s 418us/sample - loss: 0.0280\n",
            "Epoch 118/120\n",
            "500/500 [==============================] - 0s 410us/sample - loss: 0.0279\n",
            "Epoch 119/120\n",
            "500/500 [==============================] - 0s 412us/sample - loss: 0.0279\n",
            "Epoch 120/120\n",
            "500/500 [==============================] - 0s 419us/sample - loss: 0.0278\n"
          ],
          "name": "stdout"
        },
        {
          "output_type": "execute_result",
          "data": {
            "text/plain": [
              "<tensorflow.python.keras.callbacks.History at 0x7f4d06903710>"
            ]
          },
          "metadata": {
            "tags": []
          },
          "execution_count": 190
        }
      ]
    },
    {
      "cell_type": "code",
      "metadata": {
        "id": "Pzs06iOX9qI0"
      },
      "source": [
        "# sample_vector = np.array([[0,5]])\n",
        "# result = decoder.predict(sample_vector)"
      ],
      "execution_count": 191,
      "outputs": []
    },
    {
      "cell_type": "code",
      "metadata": {
        "id": "ywyEdpBgDUhJ"
      },
      "source": [
        "# result.shape"
      ],
      "execution_count": 192,
      "outputs": []
    },
    {
      "cell_type": "code",
      "metadata": {
        "id": "yIOIn2hrDf_l"
      },
      "source": [
        "# result = result[0].reshape(62,56)"
      ],
      "execution_count": 193,
      "outputs": []
    },
    {
      "cell_type": "code",
      "metadata": {
        "id": "Gc-fneGLDwIH"
      },
      "source": [
        "# result.shape"
      ],
      "execution_count": 194,
      "outputs": []
    },
    {
      "cell_type": "code",
      "metadata": {
        "id": "TfNi41ZYD5Pw"
      },
      "source": [
        "# smiles_decoder(result)"
      ],
      "execution_count": 196,
      "outputs": []
    },
    {
      "cell_type": "code",
      "metadata": {
        "colab": {
          "base_uri": "https://localhost:8080/"
        },
        "id": "5naLRnH7EHph",
        "outputId": "331130a9-545c-466f-9096-7b6876ad0bc9"
      },
      "source": [
        "import random\n",
        "result = []\n",
        "for i in random.sample(range(1, 10000000), 100):\n",
        "  for j in random.sample(range(1, 10000000), 100):\n",
        "    sample_vector = np.array([[i,j]])\n",
        "    res = decoder.predict(sample_vector)\n",
        "    res = res[0].reshape(62,56)\n",
        "    result.append(smiles_decoder(res).replace(' ',''))\n",
        "    # print(i,j)\n",
        "set(result)"
      ],
      "execution_count": 214,
      "outputs": [
        {
          "output_type": "execute_result",
          "data": {
            "text/plain": [
              "{'CC[C@@H]1O[C@@H]())C@@H](O)[C@@H](O)[C@@H1OO',\n",
              " 'CC[C@@H]1O[C@@H]())C@H](O)[C@@H](O)[C@@H11O',\n",
              " 'CC[C@@H]1O[C@@H]())C@H](O)[C@@H](O)[C@@H1OO',\n",
              " 'CC[C@@H]1O[C@@H]())CC@H](O)[C@@H](O)[C@@H11O',\n",
              " 'CC[C@@H]1O[C@@H](N))CC@H](O)[C@@H](O)[C@@H11O',\n",
              " 'C[C@@H]1O[C@@H]())C@@H](O)[C@@H](O)[C@@H1OO',\n",
              " 'C[C@@H]1O[C@@H](O))C@@H](O)[C@@H](O)[C@@H1OO',\n",
              " 'OC[C@@H]1O[C@@H](O))C@@H](O)[@@H](O)[C@H]1O',\n",
              " 'OC[C@@H]1O[C@@H](O))C@@H](O)[C@@H](O)[C@@H1O',\n",
              " 'OC[C@@H]1O[C@@H](O))C@@H](O)[C@@H](O)[C@@H1OO',\n",
              " 'OC[C@@H]1O[C@@H](O))C@@H](O)[C@@H](O)[C@HH1O',\n",
              " 'OC[C@@H]1O[C@@H](O))C@@H](O)[C@@H](O)[C@H]1O',\n",
              " 'OOCCH(1O@H(O)[H([[(@H]O@@H]O',\n",
              " 'OOCCH(1O[@H(O)[@H([[(@H]O@@H]O',\n",
              " 'OOCCH(1O[@H(O)[H([[(@H]O@@H]O',\n",
              " 'OOCCH(1O[@H](O)[@H([[(@H]O@@H]O',\n",
              " 'OOCCH(1O[@H](O)[@H([[@HHO@@H]O',\n",
              " 'OOCCH(1O[@H](O)[@H([[@H]O@@H]O',\n",
              " 'OOCH((O)()H((]@]',\n",
              " 'OOCH((O)()H(]@]',\n",
              " 'OOCH((O)()H]@]',\n",
              " 'OOCH((O)()H]]',\n",
              " 'OOCH((O)(H)H]]',\n",
              " 'OOCH(1O(O)](H(@H](@@H]',\n",
              " 'OOCH(1O(O)](H(@H](@H]',\n",
              " 'OOCH(1O(O)](H(H](@H]',\n",
              " 'OOCH(1O(O)]([(@H](@@H]',\n",
              " 'OOCH(1O@(O)[H([(@H](@@H]O',\n",
              " 'OOCH(1O@(O)[]([(@H](@@H]O',\n",
              " 'OOCH(1O@(O)]([(@H](@@H]',\n",
              " 'OOCH(1O@H(O)[H([(@H](@@H]O',\n",
              " 'OOCH(1O@H(O)[H([[(@H](@@H]O',\n",
              " 'OOCH(1O@H(O)[H([[(@H]O@@H]O',\n",
              " 'OOCH(1OO)(](H(H](@H]',\n",
              " 'OOCH(1OO)(][(H(H](@H]',\n",
              " 'OOCH(1OO)](H(H](@H]',\n",
              " 'OOCH(O(O)()H((]@]',\n",
              " 'OOCH(O(O)()[H((@H',\n",
              " 'OOCH(O(O)()[H((@]',\n",
              " 'OOCH(O(O)()[H((]@]',\n",
              " 'OOCH(O(O)()[[H((@H',\n",
              " 'OOCH(O(O)()[[H(](@H',\n",
              " 'OOCH(O(O)()[[H(](@H]',\n",
              " 'OOCH(O(O)(][[H(H](@H]',\n",
              " 'OOCH(O(O)(][[H(](@H]',\n",
              " 'OOCH(OO)(][(H(H](@H]',\n",
              " 'OO[C@@H(1O[@@H](O))C@@H](O)[@HH](O[C@H]1O',\n",
              " 'OO[C@@H(1O[@@H](O)[@H]([[@HH]([@H]O',\n",
              " 'OO[C@@H(1O[@@H](O)[@H]([[@HH]([C@H]O',\n",
              " 'OO[C@@H(1O[@@H](O)[C@@H]()[@HH](O[C@H]1O',\n",
              " 'OO[C@@H(1O[@@H](O)[C@@H]()[@HH](O[C@H]O',\n",
              " 'OO[C@@H(1O[@@H](O)[C@@H]()[@HH]([C@H]O',\n",
              " 'OO[C@@H(1O[@@H](O)[C@@H](O)[@HH](O[C@H]1O',\n",
              " 'OO[C@@H(1O[@@H](O)[C@H]()[@HH]([C@H]O',\n",
              " 'OO[C@@H(1O[@@H](O)[C@H]([[@HH]([C@H]O',\n",
              " 'OO[C@@H(1O[C@@H](O))C@@H](O)[@@H](O[C@H]1O',\n",
              " 'OO[C@@H(1O[C@@H](O))C@@H](O)[@HH](O[C@H]1O',\n",
              " 'OO[C@@H]1O[C@@H](O))C@@H](O)[@@H](O)[C@H]1O',\n",
              " 'OO[C@@H]1O[C@@H](O))C@@H](O)[@@H](O[C@H]1O',\n",
              " 'OO[C@H(1O[@@H](O)[@H([[@HHO@@H]O',\n",
              " 'OO[C@H(1O[@@H](O)[@H([[@HHO@H]O',\n",
              " 'OO[C@H(1O[@@H](O)[@H]([[@HHO@H]O',\n",
              " 'OO[C@H(1O[@@H](O)[@H]([[@HH](@H]O',\n",
              " 'OO[C@H(1O[@@H](O)[@H]([[@HH]@H]O',\n",
              " 'OO[CH(1O[@@H](O)[@H([[@HHO@@H]O',\n",
              " 'OO[CH(1O[@H](O)[@H([[@HHO@@H]O'}"
            ]
          },
          "metadata": {
            "tags": []
          },
          "execution_count": 214
        }
      ]
    },
    {
      "cell_type": "code",
      "metadata": {
        "id": "knOSElh3D8Dd"
      },
      "source": [
        "# import rdkit\n",
        "# rdkit.Chem.MolDrawing(smiles_decoder(result))"
      ],
      "execution_count": null,
      "outputs": []
    },
    {
      "cell_type": "code",
      "metadata": {
        "id": "-lCz88IsFH2f"
      },
      "source": [
        "# result = list(map(lambda x: x.replace(' ',''),result))"
      ],
      "execution_count": 202,
      "outputs": []
    },
    {
      "cell_type": "code",
      "metadata": {
        "id": "39MyaASjGAVH"
      },
      "source": [
        "# result"
      ],
      "execution_count": 215,
      "outputs": []
    },
    {
      "cell_type": "code",
      "metadata": {
        "id": "tZP4SQjEEYqp"
      },
      "source": [
        "from rdkit.Chem import Draw\n",
        "for i in result:\n",
        "  try:\n",
        "    m = Chem.MolFromSmiles(smiles_decoder(i))\n",
        "    fig = Draw.MolToMPL(m, size=(200,200))\n",
        "    print('possible')\n",
        "  except:\n",
        "    continue  "
      ],
      "execution_count": 216,
      "outputs": []
    },
    {
      "cell_type": "code",
      "metadata": {
        "id": "53zgDxuXE8mL",
        "colab": {
          "base_uri": "https://localhost:8080/",
          "height": 181
        },
        "outputId": "78b9f7f8-a5e7-4c5d-9ffd-1be1af69e40d"
      },
      "source": [
        "import pickle\n",
        "pickle.dump(decoder, open('/content/drive/My Drive/decoder.pkl','wb'))"
      ],
      "execution_count": 212,
      "outputs": [
        {
          "output_type": "error",
          "ename": "TypeError",
          "evalue": "ignored",
          "traceback": [
            "\u001b[0;31m---------------------------------------------------------------------------\u001b[0m",
            "\u001b[0;31mTypeError\u001b[0m                                 Traceback (most recent call last)",
            "\u001b[0;32m<ipython-input-212-b3c8cf97a7e2>\u001b[0m in \u001b[0;36m<module>\u001b[0;34m()\u001b[0m\n\u001b[1;32m      1\u001b[0m \u001b[0;32mimport\u001b[0m \u001b[0mpickle\u001b[0m\u001b[0;34m\u001b[0m\u001b[0;34m\u001b[0m\u001b[0m\n\u001b[0;32m----> 2\u001b[0;31m \u001b[0mpickle\u001b[0m\u001b[0;34m.\u001b[0m\u001b[0mdump\u001b[0m\u001b[0;34m(\u001b[0m\u001b[0mdecoder\u001b[0m\u001b[0;34m,\u001b[0m \u001b[0mopen\u001b[0m\u001b[0;34m(\u001b[0m\u001b[0;34m'/content/drive/My Drive/decoder.pkl'\u001b[0m\u001b[0;34m,\u001b[0m\u001b[0;34m'wb'\u001b[0m\u001b[0;34m)\u001b[0m\u001b[0;34m)\u001b[0m\u001b[0;34m\u001b[0m\u001b[0;34m\u001b[0m\u001b[0m\n\u001b[0m",
            "\u001b[0;31mTypeError\u001b[0m: can't pickle _thread.RLock objects"
          ]
        }
      ]
    },
    {
      "cell_type": "code",
      "metadata": {
        "id": "yFiDnTxiQRMQ"
      },
      "source": [
        "'/content/drive/My Drive/decoder.pkl'"
      ],
      "execution_count": null,
      "outputs": []
    }
  ]
}